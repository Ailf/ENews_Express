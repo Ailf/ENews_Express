{
  "nbformat": 4,
  "nbformat_minor": 5,
  "metadata": {
    "kernelspec": {
      "display_name": "Python 3",
      "language": "python",
      "name": "python3"
    },
    "language_info": {
      "codemirror_mode": {
        "name": "ipython",
        "version": 3
      },
      "file_extension": ".py",
      "mimetype": "text/x-python",
      "name": "python",
      "nbconvert_exporter": "python",
      "pygments_lexer": "ipython3",
      "version": "3.8.8"
    },
    "colab": {
      "provenance": []
    }
  },
  "cells": [
    {
      "cell_type": "markdown",
      "metadata": {
        "id": "6yDxo9u0d9Na"
      },
      "source": [
        "# Project Business Statistics: E-news Express\n",
        "\n",
        "**Marks: 60**"
      ],
      "id": "6yDxo9u0d9Na"
    },
    {
      "cell_type": "markdown",
      "metadata": {
        "id": "SrLd-ICEmPSD"
      },
      "source": [
        "## Define Problem Statement and Objectives"
      ],
      "id": "SrLd-ICEmPSD"
    },
    {
      "cell_type": "markdown",
      "metadata": {
        "id": "9Vt1PLLqmXNn"
      },
      "source": [
        "## Business Context\n",
        "\n",
        "The advent of e-news, or electronic news, portals has offered us a great opportunity to quickly get updates on the day-to-day events occurring globally. The information on these portals is retrieved electronically from online databases, processed using a variety of software, and then transmitted to the users. There are multiple advantages of transmitting new electronically, like faster access to the content and the ability to utilize different technologies such as audio, graphics, video, and other interactive elements that are either not being used or aren’t common yet in traditional newspapers.\n",
        "\n",
        "E-news Express, an online news portal, aims to expand its business by acquiring new subscribers. With every visitor to the website taking certain actions based on their interest, the company plans to analyze these actions to understand user interests and determine how to drive better engagement.  The executives at E-news Express are of the opinion that there has been a decline in new monthly subscribers compared to the past year because the current webpage is not designed well enough in terms of the outline & recommended content to keep customers engaged long enough to make a decision to subscribe.\n",
        "\n",
        "[Companies often analyze user responses to two variants of a product to decide which of the two variants is more effective. This experimental technique, known as A/B testing, is used to determine whether a new feature attracts users based on a chosen metric.]\n",
        "\n",
        "\n",
        "## Objective\n",
        "\n",
        "The design team of the company has researched and created a new landing page that has a new outline & more relevant content shown compared to the old page. In order to test the effectiveness of the new landing page in gathering new subscribers, the Data Science team conducted an experiment by randomly selecting 100 users and dividing them equally into two groups. The existing landing page was served to the first group (control group) and the new landing page to the second group (treatment group). Data regarding the interaction of users in both groups with the two versions of the landing page was collected. Being a data scientist in E-news Express, you have been asked to explore the data and perform a statistical analysis (at a significance level of 5%) to determine the effectiveness of the new landing page in gathering new subscribers for the news portal by answering the following questions:\n",
        "\n",
        "1. Do the users spend more time on the new landing page than on the existing landing page?\n",
        "\n",
        "2. Is the conversion rate (the proportion of users who visit the landing page and get converted) for the new page greater than the conversion rate for the old page?\n",
        "\n",
        "3. Does the converted status depend on the preferred language?\n",
        "\n",
        "4. Is the time spent on the new page the same for the different language users?\n",
        "\n",
        "\n",
        "## Data Dictionary\n",
        "\n",
        "The data contains information regarding the interaction of users in both groups with the two versions of the landing page.\n",
        "\n",
        "1. user_id - Unique user ID of the person visiting the website\n",
        "\n",
        "2. group - Whether the user belongs to the first group (control) or the second group (treatment)\n",
        "\n",
        "3. landing_page - Whether the landing page is new or old\n",
        "\n",
        "4. time_spent_on_the_page - Time (in minutes) spent by the user on the landing page\n",
        "\n",
        "5. converted - Whether the user gets converted to a subscriber of the news portal or not\n",
        "\n",
        "6. language_preferred - Language chosen by the user to view the landing page"
      ],
      "id": "9Vt1PLLqmXNn"
    },
    {
      "cell_type": "markdown",
      "metadata": {
        "id": "a6a3d218"
      },
      "source": [
        "## Import all the necessary libraries"
      ],
      "id": "a6a3d218"
    },
    {
      "cell_type": "code",
      "metadata": {
        "id": "658c5dec"
      },
      "source": [
        "import numpy as np\n",
        "import pandas as pd\n",
        "from matplotlib import pyplot as plt\n",
        "import seaborn as sns"
      ],
      "id": "658c5dec",
      "execution_count": 60,
      "outputs": []
    },
    {
      "cell_type": "markdown",
      "metadata": {
        "id": "6970dd99"
      },
      "source": [
        "## Reading the Data into a DataFrame"
      ],
      "id": "6970dd99"
    },
    {
      "cell_type": "code",
      "source": [
        "# Connecting to google colab \n",
        "from google.colab import drive\n",
        "drive.mount('/content/drive')"
      ],
      "metadata": {
        "colab": {
          "base_uri": "https://localhost:8080/"
        },
        "id": "19MzURRJTwHq",
        "outputId": "b5fb1616-142f-4bca-96a3-72b570d59380"
      },
      "id": "19MzURRJTwHq",
      "execution_count": 61,
      "outputs": [
        {
          "output_type": "stream",
          "name": "stdout",
          "text": [
            "Drive already mounted at /content/drive; to attempt to forcibly remount, call drive.mount(\"/content/drive\", force_remount=True).\n"
          ]
        }
      ]
    },
    {
      "cell_type": "code",
      "metadata": {
        "id": "d3b95640"
      },
      "source": [
        "# Reading the data\n",
        "df = pd.read_csv('/content/drive/MyDrive/abtest.csv')"
      ],
      "id": "d3b95640",
      "execution_count": 62,
      "outputs": []
    },
    {
      "cell_type": "markdown",
      "metadata": {
        "id": "9d75cfa2"
      },
      "source": [
        "# Explore the dataset and extract insights using Exploratory Data Analysis"
      ],
      "id": "9d75cfa2"
    },
    {
      "cell_type": "markdown",
      "metadata": {
        "id": "27201534"
      },
      "source": [
        "- Data Overview\n",
        "  - Viewing the first and last few rows of the dataset\n",
        "  - Checking the shape of the dataset\n",
        "  - Getting the statistical summary for the variables\n",
        "- Check for missing values\n",
        "- Check for duplicates"
      ],
      "id": "27201534"
    },
    {
      "cell_type": "code",
      "metadata": {
        "id": "e1ad11d4",
        "colab": {
          "base_uri": "https://localhost:8080/",
          "height": 206
        },
        "outputId": "db12f40b-00f9-41aa-ea04-0bf73fa1bb07"
      },
      "source": [
        "# Checking first few rows of the data\n",
        "df.head()"
      ],
      "id": "e1ad11d4",
      "execution_count": 63,
      "outputs": [
        {
          "output_type": "execute_result",
          "data": {
            "text/plain": [
              "   user_id      group landing_page  time_spent_on_the_page converted  \\\n",
              "0   546592    control          old                    3.48        no   \n",
              "1   546468  treatment          new                    7.13       yes   \n",
              "2   546462  treatment          new                    4.40        no   \n",
              "3   546567    control          old                    3.02        no   \n",
              "4   546459  treatment          new                    4.75       yes   \n",
              "\n",
              "  language_preferred  \n",
              "0            Spanish  \n",
              "1            English  \n",
              "2            Spanish  \n",
              "3             French  \n",
              "4            Spanish  "
            ],
            "text/html": [
              "\n",
              "  <div id=\"df-124e3ed3-5699-41f5-9914-84d0bba02aa6\">\n",
              "    <div class=\"colab-df-container\">\n",
              "      <div>\n",
              "<style scoped>\n",
              "    .dataframe tbody tr th:only-of-type {\n",
              "        vertical-align: middle;\n",
              "    }\n",
              "\n",
              "    .dataframe tbody tr th {\n",
              "        vertical-align: top;\n",
              "    }\n",
              "\n",
              "    .dataframe thead th {\n",
              "        text-align: right;\n",
              "    }\n",
              "</style>\n",
              "<table border=\"1\" class=\"dataframe\">\n",
              "  <thead>\n",
              "    <tr style=\"text-align: right;\">\n",
              "      <th></th>\n",
              "      <th>user_id</th>\n",
              "      <th>group</th>\n",
              "      <th>landing_page</th>\n",
              "      <th>time_spent_on_the_page</th>\n",
              "      <th>converted</th>\n",
              "      <th>language_preferred</th>\n",
              "    </tr>\n",
              "  </thead>\n",
              "  <tbody>\n",
              "    <tr>\n",
              "      <th>0</th>\n",
              "      <td>546592</td>\n",
              "      <td>control</td>\n",
              "      <td>old</td>\n",
              "      <td>3.48</td>\n",
              "      <td>no</td>\n",
              "      <td>Spanish</td>\n",
              "    </tr>\n",
              "    <tr>\n",
              "      <th>1</th>\n",
              "      <td>546468</td>\n",
              "      <td>treatment</td>\n",
              "      <td>new</td>\n",
              "      <td>7.13</td>\n",
              "      <td>yes</td>\n",
              "      <td>English</td>\n",
              "    </tr>\n",
              "    <tr>\n",
              "      <th>2</th>\n",
              "      <td>546462</td>\n",
              "      <td>treatment</td>\n",
              "      <td>new</td>\n",
              "      <td>4.40</td>\n",
              "      <td>no</td>\n",
              "      <td>Spanish</td>\n",
              "    </tr>\n",
              "    <tr>\n",
              "      <th>3</th>\n",
              "      <td>546567</td>\n",
              "      <td>control</td>\n",
              "      <td>old</td>\n",
              "      <td>3.02</td>\n",
              "      <td>no</td>\n",
              "      <td>French</td>\n",
              "    </tr>\n",
              "    <tr>\n",
              "      <th>4</th>\n",
              "      <td>546459</td>\n",
              "      <td>treatment</td>\n",
              "      <td>new</td>\n",
              "      <td>4.75</td>\n",
              "      <td>yes</td>\n",
              "      <td>Spanish</td>\n",
              "    </tr>\n",
              "  </tbody>\n",
              "</table>\n",
              "</div>\n",
              "      <button class=\"colab-df-convert\" onclick=\"convertToInteractive('df-124e3ed3-5699-41f5-9914-84d0bba02aa6')\"\n",
              "              title=\"Convert this dataframe to an interactive table.\"\n",
              "              style=\"display:none;\">\n",
              "        \n",
              "  <svg xmlns=\"http://www.w3.org/2000/svg\" height=\"24px\"viewBox=\"0 0 24 24\"\n",
              "       width=\"24px\">\n",
              "    <path d=\"M0 0h24v24H0V0z\" fill=\"none\"/>\n",
              "    <path d=\"M18.56 5.44l.94 2.06.94-2.06 2.06-.94-2.06-.94-.94-2.06-.94 2.06-2.06.94zm-11 1L8.5 8.5l.94-2.06 2.06-.94-2.06-.94L8.5 2.5l-.94 2.06-2.06.94zm10 10l.94 2.06.94-2.06 2.06-.94-2.06-.94-.94-2.06-.94 2.06-2.06.94z\"/><path d=\"M17.41 7.96l-1.37-1.37c-.4-.4-.92-.59-1.43-.59-.52 0-1.04.2-1.43.59L10.3 9.45l-7.72 7.72c-.78.78-.78 2.05 0 2.83L4 21.41c.39.39.9.59 1.41.59.51 0 1.02-.2 1.41-.59l7.78-7.78 2.81-2.81c.8-.78.8-2.07 0-2.86zM5.41 20L4 18.59l7.72-7.72 1.47 1.35L5.41 20z\"/>\n",
              "  </svg>\n",
              "      </button>\n",
              "      \n",
              "  <style>\n",
              "    .colab-df-container {\n",
              "      display:flex;\n",
              "      flex-wrap:wrap;\n",
              "      gap: 12px;\n",
              "    }\n",
              "\n",
              "    .colab-df-convert {\n",
              "      background-color: #E8F0FE;\n",
              "      border: none;\n",
              "      border-radius: 50%;\n",
              "      cursor: pointer;\n",
              "      display: none;\n",
              "      fill: #1967D2;\n",
              "      height: 32px;\n",
              "      padding: 0 0 0 0;\n",
              "      width: 32px;\n",
              "    }\n",
              "\n",
              "    .colab-df-convert:hover {\n",
              "      background-color: #E2EBFA;\n",
              "      box-shadow: 0px 1px 2px rgba(60, 64, 67, 0.3), 0px 1px 3px 1px rgba(60, 64, 67, 0.15);\n",
              "      fill: #174EA6;\n",
              "    }\n",
              "\n",
              "    [theme=dark] .colab-df-convert {\n",
              "      background-color: #3B4455;\n",
              "      fill: #D2E3FC;\n",
              "    }\n",
              "\n",
              "    [theme=dark] .colab-df-convert:hover {\n",
              "      background-color: #434B5C;\n",
              "      box-shadow: 0px 1px 3px 1px rgba(0, 0, 0, 0.15);\n",
              "      filter: drop-shadow(0px 1px 2px rgba(0, 0, 0, 0.3));\n",
              "      fill: #FFFFFF;\n",
              "    }\n",
              "  </style>\n",
              "\n",
              "      <script>\n",
              "        const buttonEl =\n",
              "          document.querySelector('#df-124e3ed3-5699-41f5-9914-84d0bba02aa6 button.colab-df-convert');\n",
              "        buttonEl.style.display =\n",
              "          google.colab.kernel.accessAllowed ? 'block' : 'none';\n",
              "\n",
              "        async function convertToInteractive(key) {\n",
              "          const element = document.querySelector('#df-124e3ed3-5699-41f5-9914-84d0bba02aa6');\n",
              "          const dataTable =\n",
              "            await google.colab.kernel.invokeFunction('convertToInteractive',\n",
              "                                                     [key], {});\n",
              "          if (!dataTable) return;\n",
              "\n",
              "          const docLinkHtml = 'Like what you see? Visit the ' +\n",
              "            '<a target=\"_blank\" href=https://colab.research.google.com/notebooks/data_table.ipynb>data table notebook</a>'\n",
              "            + ' to learn more about interactive tables.';\n",
              "          element.innerHTML = '';\n",
              "          dataTable['output_type'] = 'display_data';\n",
              "          await google.colab.output.renderOutput(dataTable, element);\n",
              "          const docLink = document.createElement('div');\n",
              "          docLink.innerHTML = docLinkHtml;\n",
              "          element.appendChild(docLink);\n",
              "        }\n",
              "      </script>\n",
              "    </div>\n",
              "  </div>\n",
              "  "
            ]
          },
          "metadata": {},
          "execution_count": 63
        }
      ]
    },
    {
      "cell_type": "code",
      "source": [
        "# Checking the last five rows of the data\n",
        "df.tail()"
      ],
      "metadata": {
        "colab": {
          "base_uri": "https://localhost:8080/",
          "height": 206
        },
        "id": "yBSwQsdHwaVa",
        "outputId": "18e26137-5907-41fc-936c-c04c003f6073"
      },
      "id": "yBSwQsdHwaVa",
      "execution_count": 64,
      "outputs": [
        {
          "output_type": "execute_result",
          "data": {
            "text/plain": [
              "    user_id      group landing_page  time_spent_on_the_page converted  \\\n",
              "95   546446  treatment          new                    5.15        no   \n",
              "96   546544    control          old                    6.52       yes   \n",
              "97   546472  treatment          new                    7.07       yes   \n",
              "98   546481  treatment          new                    6.20       yes   \n",
              "99   546483  treatment          new                    5.86       yes   \n",
              "\n",
              "   language_preferred  \n",
              "95            Spanish  \n",
              "96            English  \n",
              "97            Spanish  \n",
              "98            Spanish  \n",
              "99            English  "
            ],
            "text/html": [
              "\n",
              "  <div id=\"df-06da57b3-76f7-4c17-a2cb-32444deaa29e\">\n",
              "    <div class=\"colab-df-container\">\n",
              "      <div>\n",
              "<style scoped>\n",
              "    .dataframe tbody tr th:only-of-type {\n",
              "        vertical-align: middle;\n",
              "    }\n",
              "\n",
              "    .dataframe tbody tr th {\n",
              "        vertical-align: top;\n",
              "    }\n",
              "\n",
              "    .dataframe thead th {\n",
              "        text-align: right;\n",
              "    }\n",
              "</style>\n",
              "<table border=\"1\" class=\"dataframe\">\n",
              "  <thead>\n",
              "    <tr style=\"text-align: right;\">\n",
              "      <th></th>\n",
              "      <th>user_id</th>\n",
              "      <th>group</th>\n",
              "      <th>landing_page</th>\n",
              "      <th>time_spent_on_the_page</th>\n",
              "      <th>converted</th>\n",
              "      <th>language_preferred</th>\n",
              "    </tr>\n",
              "  </thead>\n",
              "  <tbody>\n",
              "    <tr>\n",
              "      <th>95</th>\n",
              "      <td>546446</td>\n",
              "      <td>treatment</td>\n",
              "      <td>new</td>\n",
              "      <td>5.15</td>\n",
              "      <td>no</td>\n",
              "      <td>Spanish</td>\n",
              "    </tr>\n",
              "    <tr>\n",
              "      <th>96</th>\n",
              "      <td>546544</td>\n",
              "      <td>control</td>\n",
              "      <td>old</td>\n",
              "      <td>6.52</td>\n",
              "      <td>yes</td>\n",
              "      <td>English</td>\n",
              "    </tr>\n",
              "    <tr>\n",
              "      <th>97</th>\n",
              "      <td>546472</td>\n",
              "      <td>treatment</td>\n",
              "      <td>new</td>\n",
              "      <td>7.07</td>\n",
              "      <td>yes</td>\n",
              "      <td>Spanish</td>\n",
              "    </tr>\n",
              "    <tr>\n",
              "      <th>98</th>\n",
              "      <td>546481</td>\n",
              "      <td>treatment</td>\n",
              "      <td>new</td>\n",
              "      <td>6.20</td>\n",
              "      <td>yes</td>\n",
              "      <td>Spanish</td>\n",
              "    </tr>\n",
              "    <tr>\n",
              "      <th>99</th>\n",
              "      <td>546483</td>\n",
              "      <td>treatment</td>\n",
              "      <td>new</td>\n",
              "      <td>5.86</td>\n",
              "      <td>yes</td>\n",
              "      <td>English</td>\n",
              "    </tr>\n",
              "  </tbody>\n",
              "</table>\n",
              "</div>\n",
              "      <button class=\"colab-df-convert\" onclick=\"convertToInteractive('df-06da57b3-76f7-4c17-a2cb-32444deaa29e')\"\n",
              "              title=\"Convert this dataframe to an interactive table.\"\n",
              "              style=\"display:none;\">\n",
              "        \n",
              "  <svg xmlns=\"http://www.w3.org/2000/svg\" height=\"24px\"viewBox=\"0 0 24 24\"\n",
              "       width=\"24px\">\n",
              "    <path d=\"M0 0h24v24H0V0z\" fill=\"none\"/>\n",
              "    <path d=\"M18.56 5.44l.94 2.06.94-2.06 2.06-.94-2.06-.94-.94-2.06-.94 2.06-2.06.94zm-11 1L8.5 8.5l.94-2.06 2.06-.94-2.06-.94L8.5 2.5l-.94 2.06-2.06.94zm10 10l.94 2.06.94-2.06 2.06-.94-2.06-.94-.94-2.06-.94 2.06-2.06.94z\"/><path d=\"M17.41 7.96l-1.37-1.37c-.4-.4-.92-.59-1.43-.59-.52 0-1.04.2-1.43.59L10.3 9.45l-7.72 7.72c-.78.78-.78 2.05 0 2.83L4 21.41c.39.39.9.59 1.41.59.51 0 1.02-.2 1.41-.59l7.78-7.78 2.81-2.81c.8-.78.8-2.07 0-2.86zM5.41 20L4 18.59l7.72-7.72 1.47 1.35L5.41 20z\"/>\n",
              "  </svg>\n",
              "      </button>\n",
              "      \n",
              "  <style>\n",
              "    .colab-df-container {\n",
              "      display:flex;\n",
              "      flex-wrap:wrap;\n",
              "      gap: 12px;\n",
              "    }\n",
              "\n",
              "    .colab-df-convert {\n",
              "      background-color: #E8F0FE;\n",
              "      border: none;\n",
              "      border-radius: 50%;\n",
              "      cursor: pointer;\n",
              "      display: none;\n",
              "      fill: #1967D2;\n",
              "      height: 32px;\n",
              "      padding: 0 0 0 0;\n",
              "      width: 32px;\n",
              "    }\n",
              "\n",
              "    .colab-df-convert:hover {\n",
              "      background-color: #E2EBFA;\n",
              "      box-shadow: 0px 1px 2px rgba(60, 64, 67, 0.3), 0px 1px 3px 1px rgba(60, 64, 67, 0.15);\n",
              "      fill: #174EA6;\n",
              "    }\n",
              "\n",
              "    [theme=dark] .colab-df-convert {\n",
              "      background-color: #3B4455;\n",
              "      fill: #D2E3FC;\n",
              "    }\n",
              "\n",
              "    [theme=dark] .colab-df-convert:hover {\n",
              "      background-color: #434B5C;\n",
              "      box-shadow: 0px 1px 3px 1px rgba(0, 0, 0, 0.15);\n",
              "      filter: drop-shadow(0px 1px 2px rgba(0, 0, 0, 0.3));\n",
              "      fill: #FFFFFF;\n",
              "    }\n",
              "  </style>\n",
              "\n",
              "      <script>\n",
              "        const buttonEl =\n",
              "          document.querySelector('#df-06da57b3-76f7-4c17-a2cb-32444deaa29e button.colab-df-convert');\n",
              "        buttonEl.style.display =\n",
              "          google.colab.kernel.accessAllowed ? 'block' : 'none';\n",
              "\n",
              "        async function convertToInteractive(key) {\n",
              "          const element = document.querySelector('#df-06da57b3-76f7-4c17-a2cb-32444deaa29e');\n",
              "          const dataTable =\n",
              "            await google.colab.kernel.invokeFunction('convertToInteractive',\n",
              "                                                     [key], {});\n",
              "          if (!dataTable) return;\n",
              "\n",
              "          const docLinkHtml = 'Like what you see? Visit the ' +\n",
              "            '<a target=\"_blank\" href=https://colab.research.google.com/notebooks/data_table.ipynb>data table notebook</a>'\n",
              "            + ' to learn more about interactive tables.';\n",
              "          element.innerHTML = '';\n",
              "          dataTable['output_type'] = 'display_data';\n",
              "          await google.colab.output.renderOutput(dataTable, element);\n",
              "          const docLink = document.createElement('div');\n",
              "          docLink.innerHTML = docLinkHtml;\n",
              "          element.appendChild(docLink);\n",
              "        }\n",
              "      </script>\n",
              "    </div>\n",
              "  </div>\n",
              "  "
            ]
          },
          "metadata": {},
          "execution_count": 64
        }
      ]
    },
    {
      "cell_type": "markdown",
      "source": [
        "#### Observations:\n",
        "\n",
        "*   The data contains columns named; user_id, group, landing_page, time_spent_on_the_page, converted and language_preferred.\n",
        "\n"
      ],
      "metadata": {
        "id": "uM4sv3jlVmGL"
      },
      "id": "uM4sv3jlVmGL"
    },
    {
      "cell_type": "code",
      "source": [
        "# Check the data types of the columns in the dataset\n",
        "df.info()          "
      ],
      "metadata": {
        "colab": {
          "base_uri": "https://localhost:8080/"
        },
        "id": "WYHoHaXPStTj",
        "outputId": "2de34797-e010-4aa4-8f00-dce2e5c347db"
      },
      "id": "WYHoHaXPStTj",
      "execution_count": 65,
      "outputs": [
        {
          "output_type": "stream",
          "name": "stdout",
          "text": [
            "<class 'pandas.core.frame.DataFrame'>\n",
            "RangeIndex: 100 entries, 0 to 99\n",
            "Data columns (total 6 columns):\n",
            " #   Column                  Non-Null Count  Dtype  \n",
            "---  ------                  --------------  -----  \n",
            " 0   user_id                 100 non-null    int64  \n",
            " 1   group                   100 non-null    object \n",
            " 2   landing_page            100 non-null    object \n",
            " 3   time_spent_on_the_page  100 non-null    float64\n",
            " 4   converted               100 non-null    object \n",
            " 5   language_preferred      100 non-null    object \n",
            "dtypes: float64(1), int64(1), object(4)\n",
            "memory usage: 4.8+ KB\n"
          ]
        }
      ]
    },
    {
      "cell_type": "markdown",
      "source": [
        "#### Observations:\n",
        "\n",
        "\n",
        "*   There are 4 categorical variables, one integer variable and one float variable.\n",
        "*   There seem to be no null values as all the columns seem to represent 100 rows."
      ],
      "metadata": {
        "id": "zRLeXI4wwqv-"
      },
      "id": "zRLeXI4wwqv-"
    },
    {
      "cell_type": "code",
      "source": [
        "#Checking the shape of data\n",
        "df.shape"
      ],
      "metadata": {
        "colab": {
          "base_uri": "https://localhost:8080/"
        },
        "id": "r4bsUQMMVeTS",
        "outputId": "735504f5-a370-40ba-a91c-5478a4b76053"
      },
      "id": "r4bsUQMMVeTS",
      "execution_count": 66,
      "outputs": [
        {
          "output_type": "execute_result",
          "data": {
            "text/plain": [
              "(100, 6)"
            ]
          },
          "metadata": {},
          "execution_count": 66
        }
      ]
    },
    {
      "cell_type": "markdown",
      "source": [
        "#### Observations:\n",
        "\n",
        "\n",
        "*   The data has 100 rows and 6 columns.\n",
        "\n"
      ],
      "metadata": {
        "id": "aYyrjIwrXP2y"
      },
      "id": "aYyrjIwrXP2y"
    },
    {
      "cell_type": "code",
      "source": [
        "# Checking the categorical and numerical summary of the data\n",
        "df.describe(include = 'all')"
      ],
      "metadata": {
        "colab": {
          "base_uri": "https://localhost:8080/",
          "height": 394
        },
        "id": "uC9IzORUXar8",
        "outputId": "6563c128-34c5-42d8-bef6-1a7df1335c45"
      },
      "id": "uC9IzORUXar8",
      "execution_count": 67,
      "outputs": [
        {
          "output_type": "execute_result",
          "data": {
            "text/plain": [
              "              user_id    group landing_page  time_spent_on_the_page converted  \\\n",
              "count      100.000000      100          100              100.000000       100   \n",
              "unique            NaN        2            2                     NaN         2   \n",
              "top               NaN  control          old                     NaN       yes   \n",
              "freq              NaN       50           50                     NaN        54   \n",
              "mean    546517.000000      NaN          NaN                5.377800       NaN   \n",
              "std         52.295779      NaN          NaN                2.378166       NaN   \n",
              "min     546443.000000      NaN          NaN                0.190000       NaN   \n",
              "25%     546467.750000      NaN          NaN                3.880000       NaN   \n",
              "50%     546492.500000      NaN          NaN                5.415000       NaN   \n",
              "75%     546567.250000      NaN          NaN                7.022500       NaN   \n",
              "max     546592.000000      NaN          NaN               10.710000       NaN   \n",
              "\n",
              "       language_preferred  \n",
              "count                 100  \n",
              "unique                  3  \n",
              "top               Spanish  \n",
              "freq                   34  \n",
              "mean                  NaN  \n",
              "std                   NaN  \n",
              "min                   NaN  \n",
              "25%                   NaN  \n",
              "50%                   NaN  \n",
              "75%                   NaN  \n",
              "max                   NaN  "
            ],
            "text/html": [
              "\n",
              "  <div id=\"df-44c9346a-e6ef-4565-97eb-2a4877630654\">\n",
              "    <div class=\"colab-df-container\">\n",
              "      <div>\n",
              "<style scoped>\n",
              "    .dataframe tbody tr th:only-of-type {\n",
              "        vertical-align: middle;\n",
              "    }\n",
              "\n",
              "    .dataframe tbody tr th {\n",
              "        vertical-align: top;\n",
              "    }\n",
              "\n",
              "    .dataframe thead th {\n",
              "        text-align: right;\n",
              "    }\n",
              "</style>\n",
              "<table border=\"1\" class=\"dataframe\">\n",
              "  <thead>\n",
              "    <tr style=\"text-align: right;\">\n",
              "      <th></th>\n",
              "      <th>user_id</th>\n",
              "      <th>group</th>\n",
              "      <th>landing_page</th>\n",
              "      <th>time_spent_on_the_page</th>\n",
              "      <th>converted</th>\n",
              "      <th>language_preferred</th>\n",
              "    </tr>\n",
              "  </thead>\n",
              "  <tbody>\n",
              "    <tr>\n",
              "      <th>count</th>\n",
              "      <td>100.000000</td>\n",
              "      <td>100</td>\n",
              "      <td>100</td>\n",
              "      <td>100.000000</td>\n",
              "      <td>100</td>\n",
              "      <td>100</td>\n",
              "    </tr>\n",
              "    <tr>\n",
              "      <th>unique</th>\n",
              "      <td>NaN</td>\n",
              "      <td>2</td>\n",
              "      <td>2</td>\n",
              "      <td>NaN</td>\n",
              "      <td>2</td>\n",
              "      <td>3</td>\n",
              "    </tr>\n",
              "    <tr>\n",
              "      <th>top</th>\n",
              "      <td>NaN</td>\n",
              "      <td>control</td>\n",
              "      <td>old</td>\n",
              "      <td>NaN</td>\n",
              "      <td>yes</td>\n",
              "      <td>Spanish</td>\n",
              "    </tr>\n",
              "    <tr>\n",
              "      <th>freq</th>\n",
              "      <td>NaN</td>\n",
              "      <td>50</td>\n",
              "      <td>50</td>\n",
              "      <td>NaN</td>\n",
              "      <td>54</td>\n",
              "      <td>34</td>\n",
              "    </tr>\n",
              "    <tr>\n",
              "      <th>mean</th>\n",
              "      <td>546517.000000</td>\n",
              "      <td>NaN</td>\n",
              "      <td>NaN</td>\n",
              "      <td>5.377800</td>\n",
              "      <td>NaN</td>\n",
              "      <td>NaN</td>\n",
              "    </tr>\n",
              "    <tr>\n",
              "      <th>std</th>\n",
              "      <td>52.295779</td>\n",
              "      <td>NaN</td>\n",
              "      <td>NaN</td>\n",
              "      <td>2.378166</td>\n",
              "      <td>NaN</td>\n",
              "      <td>NaN</td>\n",
              "    </tr>\n",
              "    <tr>\n",
              "      <th>min</th>\n",
              "      <td>546443.000000</td>\n",
              "      <td>NaN</td>\n",
              "      <td>NaN</td>\n",
              "      <td>0.190000</td>\n",
              "      <td>NaN</td>\n",
              "      <td>NaN</td>\n",
              "    </tr>\n",
              "    <tr>\n",
              "      <th>25%</th>\n",
              "      <td>546467.750000</td>\n",
              "      <td>NaN</td>\n",
              "      <td>NaN</td>\n",
              "      <td>3.880000</td>\n",
              "      <td>NaN</td>\n",
              "      <td>NaN</td>\n",
              "    </tr>\n",
              "    <tr>\n",
              "      <th>50%</th>\n",
              "      <td>546492.500000</td>\n",
              "      <td>NaN</td>\n",
              "      <td>NaN</td>\n",
              "      <td>5.415000</td>\n",
              "      <td>NaN</td>\n",
              "      <td>NaN</td>\n",
              "    </tr>\n",
              "    <tr>\n",
              "      <th>75%</th>\n",
              "      <td>546567.250000</td>\n",
              "      <td>NaN</td>\n",
              "      <td>NaN</td>\n",
              "      <td>7.022500</td>\n",
              "      <td>NaN</td>\n",
              "      <td>NaN</td>\n",
              "    </tr>\n",
              "    <tr>\n",
              "      <th>max</th>\n",
              "      <td>546592.000000</td>\n",
              "      <td>NaN</td>\n",
              "      <td>NaN</td>\n",
              "      <td>10.710000</td>\n",
              "      <td>NaN</td>\n",
              "      <td>NaN</td>\n",
              "    </tr>\n",
              "  </tbody>\n",
              "</table>\n",
              "</div>\n",
              "      <button class=\"colab-df-convert\" onclick=\"convertToInteractive('df-44c9346a-e6ef-4565-97eb-2a4877630654')\"\n",
              "              title=\"Convert this dataframe to an interactive table.\"\n",
              "              style=\"display:none;\">\n",
              "        \n",
              "  <svg xmlns=\"http://www.w3.org/2000/svg\" height=\"24px\"viewBox=\"0 0 24 24\"\n",
              "       width=\"24px\">\n",
              "    <path d=\"M0 0h24v24H0V0z\" fill=\"none\"/>\n",
              "    <path d=\"M18.56 5.44l.94 2.06.94-2.06 2.06-.94-2.06-.94-.94-2.06-.94 2.06-2.06.94zm-11 1L8.5 8.5l.94-2.06 2.06-.94-2.06-.94L8.5 2.5l-.94 2.06-2.06.94zm10 10l.94 2.06.94-2.06 2.06-.94-2.06-.94-.94-2.06-.94 2.06-2.06.94z\"/><path d=\"M17.41 7.96l-1.37-1.37c-.4-.4-.92-.59-1.43-.59-.52 0-1.04.2-1.43.59L10.3 9.45l-7.72 7.72c-.78.78-.78 2.05 0 2.83L4 21.41c.39.39.9.59 1.41.59.51 0 1.02-.2 1.41-.59l7.78-7.78 2.81-2.81c.8-.78.8-2.07 0-2.86zM5.41 20L4 18.59l7.72-7.72 1.47 1.35L5.41 20z\"/>\n",
              "  </svg>\n",
              "      </button>\n",
              "      \n",
              "  <style>\n",
              "    .colab-df-container {\n",
              "      display:flex;\n",
              "      flex-wrap:wrap;\n",
              "      gap: 12px;\n",
              "    }\n",
              "\n",
              "    .colab-df-convert {\n",
              "      background-color: #E8F0FE;\n",
              "      border: none;\n",
              "      border-radius: 50%;\n",
              "      cursor: pointer;\n",
              "      display: none;\n",
              "      fill: #1967D2;\n",
              "      height: 32px;\n",
              "      padding: 0 0 0 0;\n",
              "      width: 32px;\n",
              "    }\n",
              "\n",
              "    .colab-df-convert:hover {\n",
              "      background-color: #E2EBFA;\n",
              "      box-shadow: 0px 1px 2px rgba(60, 64, 67, 0.3), 0px 1px 3px 1px rgba(60, 64, 67, 0.15);\n",
              "      fill: #174EA6;\n",
              "    }\n",
              "\n",
              "    [theme=dark] .colab-df-convert {\n",
              "      background-color: #3B4455;\n",
              "      fill: #D2E3FC;\n",
              "    }\n",
              "\n",
              "    [theme=dark] .colab-df-convert:hover {\n",
              "      background-color: #434B5C;\n",
              "      box-shadow: 0px 1px 3px 1px rgba(0, 0, 0, 0.15);\n",
              "      filter: drop-shadow(0px 1px 2px rgba(0, 0, 0, 0.3));\n",
              "      fill: #FFFFFF;\n",
              "    }\n",
              "  </style>\n",
              "\n",
              "      <script>\n",
              "        const buttonEl =\n",
              "          document.querySelector('#df-44c9346a-e6ef-4565-97eb-2a4877630654 button.colab-df-convert');\n",
              "        buttonEl.style.display =\n",
              "          google.colab.kernel.accessAllowed ? 'block' : 'none';\n",
              "\n",
              "        async function convertToInteractive(key) {\n",
              "          const element = document.querySelector('#df-44c9346a-e6ef-4565-97eb-2a4877630654');\n",
              "          const dataTable =\n",
              "            await google.colab.kernel.invokeFunction('convertToInteractive',\n",
              "                                                     [key], {});\n",
              "          if (!dataTable) return;\n",
              "\n",
              "          const docLinkHtml = 'Like what you see? Visit the ' +\n",
              "            '<a target=\"_blank\" href=https://colab.research.google.com/notebooks/data_table.ipynb>data table notebook</a>'\n",
              "            + ' to learn more about interactive tables.';\n",
              "          element.innerHTML = '';\n",
              "          dataTable['output_type'] = 'display_data';\n",
              "          await google.colab.output.renderOutput(dataTable, element);\n",
              "          const docLink = document.createElement('div');\n",
              "          docLink.innerHTML = docLinkHtml;\n",
              "          element.appendChild(docLink);\n",
              "        }\n",
              "      </script>\n",
              "    </div>\n",
              "  </div>\n",
              "  "
            ]
          },
          "metadata": {},
          "execution_count": 67
        }
      ]
    },
    {
      "cell_type": "markdown",
      "source": [
        "#### Observations: \n",
        "\n",
        "\n",
        "*   There are total of 100 entries.\n",
        "*   The average time spent on the landing page is 5.38 minutes.\n",
        "*   The standard deviation is 2.38 minutes.\n",
        "\n"
      ],
      "metadata": {
        "id": "jVawlCvtw894"
      },
      "id": "jVawlCvtw894"
    },
    {
      "cell_type": "code",
      "source": [
        "# Checking the summary of group column\n",
        "df['group'].describe() "
      ],
      "metadata": {
        "colab": {
          "base_uri": "https://localhost:8080/"
        },
        "id": "tftKP8psgOn7",
        "outputId": "83f3a0ed-d27b-48d5-d4c9-468c9c8901d3"
      },
      "id": "tftKP8psgOn7",
      "execution_count": 110,
      "outputs": [
        {
          "output_type": "execute_result",
          "data": {
            "text/plain": [
              "count         100\n",
              "unique          2\n",
              "top       control\n",
              "freq           50\n",
              "Name: group, dtype: object"
            ]
          },
          "metadata": {},
          "execution_count": 110
        }
      ]
    },
    {
      "cell_type": "markdown",
      "source": [
        "#### Observations:\n",
        "\n",
        "The feature \"group\" has 2 unique values control and treatment groups."
      ],
      "metadata": {
        "id": "XNWEwA2XgUPv"
      },
      "id": "XNWEwA2XgUPv"
    },
    {
      "cell_type": "code",
      "source": [
        "df['landing_page'].describe() #outputs the count, unique values, top value, frequency, and data type"
      ],
      "metadata": {
        "colab": {
          "base_uri": "https://localhost:8080/"
        },
        "id": "9HFXZBsagZvE",
        "outputId": "f9d32176-be3d-4cc8-e971-c697e02253e8"
      },
      "id": "9HFXZBsagZvE",
      "execution_count": 111,
      "outputs": [
        {
          "output_type": "execute_result",
          "data": {
            "text/plain": [
              "count     100\n",
              "unique      2\n",
              "top       old\n",
              "freq       50\n",
              "Name: landing_page, dtype: object"
            ]
          },
          "metadata": {},
          "execution_count": 111
        }
      ]
    },
    {
      "cell_type": "markdown",
      "source": [
        "#### Observations: \n",
        "\n",
        "he feature \"landing page\" also has 2 unique values old and new landing page."
      ],
      "metadata": {
        "id": "weOcDwspgahh"
      },
      "id": "weOcDwspgahh"
    },
    {
      "cell_type": "code",
      "source": [
        "df['converted'].describe() #outputs the count, unique values, top value, frequency, and data type"
      ],
      "metadata": {
        "colab": {
          "base_uri": "https://localhost:8080/"
        },
        "id": "Rv6NFH0igZ3N",
        "outputId": "bd34ba28-66be-476c-9cbe-6d496b9b2424"
      },
      "id": "Rv6NFH0igZ3N",
      "execution_count": 112,
      "outputs": [
        {
          "output_type": "execute_result",
          "data": {
            "text/plain": [
              "count     100\n",
              "unique      2\n",
              "top       yes\n",
              "freq       54\n",
              "Name: converted, dtype: object"
            ]
          },
          "metadata": {},
          "execution_count": 112
        }
      ]
    },
    {
      "cell_type": "markdown",
      "source": [
        "#### Observations:\n",
        "\n",
        "The feature \"converted\" has 2 unique values no and yes, with yes(coverted) having the highest frequency of 54."
      ],
      "metadata": {
        "id": "XskbxRn0gbeI"
      },
      "id": "XskbxRn0gbeI"
    },
    {
      "cell_type": "code",
      "source": [
        "df['language_preferred'].describe() #outputs the count, unique values, top value, frequency, and data type"
      ],
      "metadata": {
        "colab": {
          "base_uri": "https://localhost:8080/"
        },
        "id": "d0-DQCW0guXP",
        "outputId": "60e181b7-83f4-4786-94a8-95b9b41ba40f"
      },
      "id": "d0-DQCW0guXP",
      "execution_count": 113,
      "outputs": [
        {
          "output_type": "execute_result",
          "data": {
            "text/plain": [
              "count         100\n",
              "unique          3\n",
              "top       Spanish\n",
              "freq           34\n",
              "Name: language_preferred, dtype: object"
            ]
          },
          "metadata": {},
          "execution_count": 113
        }
      ]
    },
    {
      "cell_type": "code",
      "source": [
        "df['language_preferred'].unique() #outputs the unique values associated with the feature"
      ],
      "metadata": {
        "colab": {
          "base_uri": "https://localhost:8080/"
        },
        "id": "xmK-H-rUg42J",
        "outputId": "b4d98585-2ce7-48a4-9803-4e3bf28f73b4"
      },
      "id": "xmK-H-rUg42J",
      "execution_count": 114,
      "outputs": [
        {
          "output_type": "execute_result",
          "data": {
            "text/plain": [
              "array(['Spanish', 'English', 'French'], dtype=object)"
            ]
          },
          "metadata": {},
          "execution_count": 114
        }
      ]
    },
    {
      "cell_type": "markdown",
      "source": [
        "#### Observations:\n",
        "\n",
        "The feature \"language preferred\" has 3 unique values spanish, english, and french, with french having the highest frequency of 34."
      ],
      "metadata": {
        "id": "Lh_4A0Wcgug3"
      },
      "id": "Lh_4A0Wcgug3"
    },
    {
      "cell_type": "code",
      "source": [
        "# Checking for null values\n",
        "df.isnull().sum()"
      ],
      "metadata": {
        "colab": {
          "base_uri": "https://localhost:8080/"
        },
        "id": "GfWz5kVDOmDf",
        "outputId": "1227a190-3948-4e12-c16b-97ab516b4741"
      },
      "id": "GfWz5kVDOmDf",
      "execution_count": 68,
      "outputs": [
        {
          "output_type": "execute_result",
          "data": {
            "text/plain": [
              "user_id                   0\n",
              "group                     0\n",
              "landing_page              0\n",
              "time_spent_on_the_page    0\n",
              "converted                 0\n",
              "language_preferred        0\n",
              "dtype: int64"
            ]
          },
          "metadata": {},
          "execution_count": 68
        }
      ]
    },
    {
      "cell_type": "markdown",
      "source": [
        "#### Observations:\n",
        "\n",
        "\n",
        "*   There are no null values.\n"
      ],
      "metadata": {
        "id": "3Taa2KTbOmMJ"
      },
      "id": "3Taa2KTbOmMJ"
    },
    {
      "cell_type": "code",
      "source": [
        "# Checking for duplicate values\n",
        "df.duplicated().any()"
      ],
      "metadata": {
        "colab": {
          "base_uri": "https://localhost:8080/"
        },
        "id": "JL2xu__JPXGk",
        "outputId": "3eeaaeba-6369-42a7-a3ab-35274fb48cb9"
      },
      "id": "JL2xu__JPXGk",
      "execution_count": 69,
      "outputs": [
        {
          "output_type": "execute_result",
          "data": {
            "text/plain": [
              "False"
            ]
          },
          "metadata": {},
          "execution_count": 69
        }
      ]
    },
    {
      "cell_type": "markdown",
      "source": [
        "#### Observations:\n",
        "\n",
        "\n",
        "*   There seem to be no duplicate values in the dataset.\n",
        "\n"
      ],
      "metadata": {
        "id": "oKqUFc3hPXQI"
      },
      "id": "oKqUFc3hPXQI"
    },
    {
      "cell_type": "markdown",
      "metadata": {
        "id": "68f3b2c9"
      },
      "source": [
        "# Univariate Analysis"
      ],
      "id": "68f3b2c9"
    },
    {
      "cell_type": "markdown",
      "source": [
        "### Observation on the numerical column 'time spent on the page'"
      ],
      "metadata": {
        "id": "NWoygA-pY_DY"
      },
      "id": "NWoygA-pY_DY"
    },
    {
      "cell_type": "code",
      "metadata": {
        "id": "1932d0f3",
        "colab": {
          "base_uri": "https://localhost:8080/",
          "height": 543
        },
        "outputId": "7533b627-e75c-49f0-d478-afab4412c9f7"
      },
      "source": [
        "# Visualising the plot for time spent on the page\n",
        "sns.histplot(data=df,x='time_spent_on_the_page')\n",
        "plt.show()\n",
        "sns.boxplot(data=df,x='time_spent_on_the_page')\n",
        "plt.show()"
      ],
      "id": "1932d0f3",
      "execution_count": 70,
      "outputs": [
        {
          "output_type": "display_data",
          "data": {
            "text/plain": [
              "<Figure size 432x288 with 1 Axes>"
            ],
            "image/png": "[encoded data removed]"
          },
          "metadata": {
            "needs_background": "light"
          }
        },
        {
          "output_type": "display_data",
          "data": {
            "text/plain": [
              "<Figure size 432x288 with 1 Axes>"
            ],
            "image/png": "[encoded data removed]"
          },
          "metadata": {
            "needs_background": "light"
          }
        }
      ]
    },
    {
      "cell_type": "markdown",
      "source": [
        "#### Observations:\n",
        "\n",
        "\n",
        "*   The data seems to follow normal distribution.\n",
        "*   The average time spent on the page is 5.38 minutes.\n",
        "*   Standard deviation is 2.38 minutes.\n",
        "*   There seems to be no outliers present in the variable.\n",
        "\n"
      ],
      "metadata": {
        "id": "LGYE4vPZxoQ-"
      },
      "id": "LGYE4vPZxoQ-"
    },
    {
      "cell_type": "markdown",
      "source": [
        "### Observations on the column Group"
      ],
      "metadata": {
        "id": "mY_WE1QBZTKV"
      },
      "id": "mY_WE1QBZTKV"
    },
    {
      "cell_type": "code",
      "source": [
        "# Visualising the column group\n",
        "sns.countplot(data=df,x='group')\n",
        "plt.show()"
      ],
      "metadata": {
        "colab": {
          "base_uri": "https://localhost:8080/",
          "height": 279
        },
        "id": "PB1lh9zASUP1",
        "outputId": "e30805a5-d3b3-408c-9a95-37ba857a0a1b"
      },
      "id": "PB1lh9zASUP1",
      "execution_count": 71,
      "outputs": [
        {
          "output_type": "display_data",
          "data": {
            "text/plain": [
              "<Figure size 432x288 with 1 Axes>"
            ],
            "image/png": "[encoded data removed]"
          },
          "metadata": {
            "needs_background": "light"
          }
        }
      ]
    },
    {
      "cell_type": "code",
      "source": [
        "df['group'].value_counts()"
      ],
      "metadata": {
        "colab": {
          "base_uri": "https://localhost:8080/"
        },
        "id": "z94NF-6LSbZi",
        "outputId": "87ed1cb8-f119-4ef7-efd4-4c9d39f80395"
      },
      "id": "z94NF-6LSbZi",
      "execution_count": 72,
      "outputs": [
        {
          "output_type": "execute_result",
          "data": {
            "text/plain": [
              "control      50\n",
              "treatment    50\n",
              "Name: group, dtype: int64"
            ]
          },
          "metadata": {},
          "execution_count": 72
        }
      ]
    },
    {
      "cell_type": "markdown",
      "source": [
        "#### Observation:\n",
        "\n",
        "\n",
        "The feature \"group\" has 2 unique values control and treatment groups. The groups are split in half. 50 in the control group and 50 in the treatment group.\n",
        "\n"
      ],
      "metadata": {
        "id": "uJd3s_3gIC7O"
      },
      "id": "uJd3s_3gIC7O"
    },
    {
      "cell_type": "markdown",
      "source": [
        "### Observations on the column 'landing page'"
      ],
      "metadata": {
        "id": "FWZ0M3WgZbch"
      },
      "id": "FWZ0M3WgZbch"
    },
    {
      "cell_type": "code",
      "source": [
        "# Visualisation of column landing page\n",
        "sns.countplot(data=df,x='landing_page')\n",
        "plt.show()"
      ],
      "metadata": {
        "colab": {
          "base_uri": "https://localhost:8080/",
          "height": 280
        },
        "id": "VCrPGmHKSl4p",
        "outputId": "45b011ac-d03d-4a43-eefe-033920f415b3"
      },
      "id": "VCrPGmHKSl4p",
      "execution_count": 73,
      "outputs": [
        {
          "output_type": "display_data",
          "data": {
            "text/plain": [
              "<Figure size 432x288 with 1 Axes>"
            ],
            "image/png": "[encoded data removed]"
          },
          "metadata": {
            "needs_background": "light"
          }
        }
      ]
    },
    {
      "cell_type": "code",
      "source": [
        "df['landing_page'].value_counts()"
      ],
      "metadata": {
        "colab": {
          "base_uri": "https://localhost:8080/"
        },
        "id": "qjtwwrOlS98g",
        "outputId": "c623c221-5c1b-464c-ffe2-b91c6f67bb65"
      },
      "id": "qjtwwrOlS98g",
      "execution_count": 74,
      "outputs": [
        {
          "output_type": "execute_result",
          "data": {
            "text/plain": [
              "old    50\n",
              "new    50\n",
              "Name: landing_page, dtype: int64"
            ]
          },
          "metadata": {},
          "execution_count": 74
        }
      ]
    },
    {
      "cell_type": "markdown",
      "source": [
        "#### Observation:\n",
        "\n",
        "The feature \"landing page\" also has 2 unique values old and new landing page. The data shows 50 observations for the old landing page and 50 observation for the new landing page."
      ],
      "metadata": {
        "id": "Mh1pJbyGITa-"
      },
      "id": "Mh1pJbyGITa-"
    },
    {
      "cell_type": "markdown",
      "source": [
        "### Observation on the column converted ( users converted after viewing the landing page)"
      ],
      "metadata": {
        "id": "7RlmaE1XZl85"
      },
      "id": "7RlmaE1XZl85"
    },
    {
      "cell_type": "code",
      "source": [
        "# Visualisation of the column converted\n",
        "sns.countplot(data=df,x='converted')\n",
        "plt.show()"
      ],
      "metadata": {
        "colab": {
          "base_uri": "https://localhost:8080/",
          "height": 279
        },
        "id": "TwqgNKTRTDcl",
        "outputId": "54c83ab6-0a97-435d-cc48-b7763284e581"
      },
      "id": "TwqgNKTRTDcl",
      "execution_count": 75,
      "outputs": [
        {
          "output_type": "display_data",
          "data": {
            "text/plain": [
              "<Figure size 432x288 with 1 Axes>"
            ],
            "image/png": "[encoded data removed]"
          },
          "metadata": {
            "needs_background": "light"
          }
        }
      ]
    },
    {
      "cell_type": "code",
      "source": [
        "df['converted'].describe() #outputs the count, unique values, top value, frequency, and data type"
      ],
      "metadata": {
        "colab": {
          "base_uri": "https://localhost:8080/"
        },
        "id": "nUI1rYLaIfQ8",
        "outputId": "cc8bcd40-28d9-4ce5-f527-80f5be41d13f"
      },
      "id": "nUI1rYLaIfQ8",
      "execution_count": 76,
      "outputs": [
        {
          "output_type": "execute_result",
          "data": {
            "text/plain": [
              "count     100\n",
              "unique      2\n",
              "top       yes\n",
              "freq       54\n",
              "Name: converted, dtype: object"
            ]
          },
          "metadata": {},
          "execution_count": 76
        }
      ]
    },
    {
      "cell_type": "markdown",
      "source": [
        "#### Observations:\n",
        "\n",
        "The feature \"converted\" has 2 unique values no and yes, with yes(coverted) having the highest frequency of 54 and no(converted) with 46."
      ],
      "metadata": {
        "id": "UB2mu3MqIhXT"
      },
      "id": "UB2mu3MqIhXT"
    },
    {
      "cell_type": "markdown",
      "source": [
        "### Observations on the column language preferred"
      ],
      "metadata": {
        "id": "1GF-kgDEaLzp"
      },
      "id": "1GF-kgDEaLzp"
    },
    {
      "cell_type": "code",
      "source": [
        "# Visualisation of the coolumn language preferred\n",
        "sns.countplot(data=df,x='language_preferred')\n",
        "plt.show()"
      ],
      "metadata": {
        "colab": {
          "base_uri": "https://localhost:8080/",
          "height": 280
        },
        "id": "UCMTyAN3TQ0A",
        "outputId": "5f6fed64-f74d-4043-e31b-d01ed3fa45ec"
      },
      "id": "UCMTyAN3TQ0A",
      "execution_count": 77,
      "outputs": [
        {
          "output_type": "display_data",
          "data": {
            "text/plain": [
              "<Figure size 432x288 with 1 Axes>"
            ],
            "image/png": "[encoded data removed]"
          },
          "metadata": {
            "needs_background": "light"
          }
        }
      ]
    },
    {
      "cell_type": "code",
      "source": [
        "df['language_preferred'].describe() #outputs the count, unique values, top value, frequency, and data type"
      ],
      "metadata": {
        "colab": {
          "base_uri": "https://localhost:8080/"
        },
        "id": "ndg2gv8XIsXe",
        "outputId": "7ae8acec-fd8a-41ff-9942-ac459c021b47"
      },
      "id": "ndg2gv8XIsXe",
      "execution_count": 78,
      "outputs": [
        {
          "output_type": "execute_result",
          "data": {
            "text/plain": [
              "count         100\n",
              "unique          3\n",
              "top       Spanish\n",
              "freq           34\n",
              "Name: language_preferred, dtype: object"
            ]
          },
          "metadata": {},
          "execution_count": 78
        }
      ]
    },
    {
      "cell_type": "code",
      "source": [
        "df['language_preferred'].value_counts()"
      ],
      "metadata": {
        "colab": {
          "base_uri": "https://localhost:8080/"
        },
        "id": "2xhUIZqvIuD_",
        "outputId": "2d5f50da-c6af-4d13-b52f-0636f6e65481"
      },
      "id": "2xhUIZqvIuD_",
      "execution_count": 79,
      "outputs": [
        {
          "output_type": "execute_result",
          "data": {
            "text/plain": [
              "Spanish    34\n",
              "French     34\n",
              "English    32\n",
              "Name: language_preferred, dtype: int64"
            ]
          },
          "metadata": {},
          "execution_count": 79
        }
      ]
    },
    {
      "cell_type": "markdown",
      "source": [
        "#### Observations:\n",
        "\n",
        "The feature \"language preferred\" has 3 unique values spanish, english, and french, with both french and spanish having the highest frequencies of 34."
      ],
      "metadata": {
        "id": "J0In78c_Iy-G"
      },
      "id": "J0In78c_Iy-G"
    },
    {
      "cell_type": "markdown",
      "metadata": {
        "id": "fad2de2f"
      },
      "source": [
        "# Bivariate Analysis"
      ],
      "id": "fad2de2f"
    },
    {
      "cell_type": "markdown",
      "source": [
        "### Finding the correlation of the data"
      ],
      "metadata": {
        "id": "3TSKL3G3aic-"
      },
      "id": "3TSKL3G3aic-"
    },
    {
      "cell_type": "code",
      "source": [
        "# Correlation of the data\n",
        "df.corr()"
      ],
      "metadata": {
        "colab": {
          "base_uri": "https://localhost:8080/",
          "height": 112
        },
        "id": "5Cj_9OKdyIvA",
        "outputId": "be615846-394c-473e-cf26-4c036a152250"
      },
      "id": "5Cj_9OKdyIvA",
      "execution_count": 80,
      "outputs": [
        {
          "output_type": "execute_result",
          "data": {
            "text/plain": [
              "                         user_id  time_spent_on_the_page\n",
              "user_id                 1.000000               -0.372868\n",
              "time_spent_on_the_page -0.372868                1.000000"
            ],
            "text/html": [
              "\n",
              "  <div id=\"df-1464a350-90e2-468d-b3b5-8a65e51e7798\">\n",
              "    <div class=\"colab-df-container\">\n",
              "      <div>\n",
              "<style scoped>\n",
              "    .dataframe tbody tr th:only-of-type {\n",
              "        vertical-align: middle;\n",
              "    }\n",
              "\n",
              "    .dataframe tbody tr th {\n",
              "        vertical-align: top;\n",
              "    }\n",
              "\n",
              "    .dataframe thead th {\n",
              "        text-align: right;\n",
              "    }\n",
              "</style>\n",
              "<table border=\"1\" class=\"dataframe\">\n",
              "  <thead>\n",
              "    <tr style=\"text-align: right;\">\n",
              "      <th></th>\n",
              "      <th>user_id</th>\n",
              "      <th>time_spent_on_the_page</th>\n",
              "    </tr>\n",
              "  </thead>\n",
              "  <tbody>\n",
              "    <tr>\n",
              "      <th>user_id</th>\n",
              "      <td>1.000000</td>\n",
              "      <td>-0.372868</td>\n",
              "    </tr>\n",
              "    <tr>\n",
              "      <th>time_spent_on_the_page</th>\n",
              "      <td>-0.372868</td>\n",
              "      <td>1.000000</td>\n",
              "    </tr>\n",
              "  </tbody>\n",
              "</table>\n",
              "</div>\n",
              "      <button class=\"colab-df-convert\" onclick=\"convertToInteractive('df-1464a350-90e2-468d-b3b5-8a65e51e7798')\"\n",
              "              title=\"Convert this dataframe to an interactive table.\"\n",
              "              style=\"display:none;\">\n",
              "        \n",
              "  <svg xmlns=\"http://www.w3.org/2000/svg\" height=\"24px\"viewBox=\"0 0 24 24\"\n",
              "       width=\"24px\">\n",
              "    <path d=\"M0 0h24v24H0V0z\" fill=\"none\"/>\n",
              "    <path d=\"M18.56 5.44l.94 2.06.94-2.06 2.06-.94-2.06-.94-.94-2.06-.94 2.06-2.06.94zm-11 1L8.5 8.5l.94-2.06 2.06-.94-2.06-.94L8.5 2.5l-.94 2.06-2.06.94zm10 10l.94 2.06.94-2.06 2.06-.94-2.06-.94-.94-2.06-.94 2.06-2.06.94z\"/><path d=\"M17.41 7.96l-1.37-1.37c-.4-.4-.92-.59-1.43-.59-.52 0-1.04.2-1.43.59L10.3 9.45l-7.72 7.72c-.78.78-.78 2.05 0 2.83L4 21.41c.39.39.9.59 1.41.59.51 0 1.02-.2 1.41-.59l7.78-7.78 2.81-2.81c.8-.78.8-2.07 0-2.86zM5.41 20L4 18.59l7.72-7.72 1.47 1.35L5.41 20z\"/>\n",
              "  </svg>\n",
              "      </button>\n",
              "      \n",
              "  <style>\n",
              "    .colab-df-container {\n",
              "      display:flex;\n",
              "      flex-wrap:wrap;\n",
              "      gap: 12px;\n",
              "    }\n",
              "\n",
              "    .colab-df-convert {\n",
              "      background-color: #E8F0FE;\n",
              "      border: none;\n",
              "      border-radius: 50%;\n",
              "      cursor: pointer;\n",
              "      display: none;\n",
              "      fill: #1967D2;\n",
              "      height: 32px;\n",
              "      padding: 0 0 0 0;\n",
              "      width: 32px;\n",
              "    }\n",
              "\n",
              "    .colab-df-convert:hover {\n",
              "      background-color: #E2EBFA;\n",
              "      box-shadow: 0px 1px 2px rgba(60, 64, 67, 0.3), 0px 1px 3px 1px rgba(60, 64, 67, 0.15);\n",
              "      fill: #174EA6;\n",
              "    }\n",
              "\n",
              "    [theme=dark] .colab-df-convert {\n",
              "      background-color: #3B4455;\n",
              "      fill: #D2E3FC;\n",
              "    }\n",
              "\n",
              "    [theme=dark] .colab-df-convert:hover {\n",
              "      background-color: #434B5C;\n",
              "      box-shadow: 0px 1px 3px 1px rgba(0, 0, 0, 0.15);\n",
              "      filter: drop-shadow(0px 1px 2px rgba(0, 0, 0, 0.3));\n",
              "      fill: #FFFFFF;\n",
              "    }\n",
              "  </style>\n",
              "\n",
              "      <script>\n",
              "        const buttonEl =\n",
              "          document.querySelector('#df-1464a350-90e2-468d-b3b5-8a65e51e7798 button.colab-df-convert');\n",
              "        buttonEl.style.display =\n",
              "          google.colab.kernel.accessAllowed ? 'block' : 'none';\n",
              "\n",
              "        async function convertToInteractive(key) {\n",
              "          const element = document.querySelector('#df-1464a350-90e2-468d-b3b5-8a65e51e7798');\n",
              "          const dataTable =\n",
              "            await google.colab.kernel.invokeFunction('convertToInteractive',\n",
              "                                                     [key], {});\n",
              "          if (!dataTable) return;\n",
              "\n",
              "          const docLinkHtml = 'Like what you see? Visit the ' +\n",
              "            '<a target=\"_blank\" href=https://colab.research.google.com/notebooks/data_table.ipynb>data table notebook</a>'\n",
              "            + ' to learn more about interactive tables.';\n",
              "          element.innerHTML = '';\n",
              "          dataTable['output_type'] = 'display_data';\n",
              "          await google.colab.output.renderOutput(dataTable, element);\n",
              "          const docLink = document.createElement('div');\n",
              "          docLink.innerHTML = docLinkHtml;\n",
              "          element.appendChild(docLink);\n",
              "        }\n",
              "      </script>\n",
              "    </div>\n",
              "  </div>\n",
              "  "
            ]
          },
          "metadata": {},
          "execution_count": 80
        }
      ]
    },
    {
      "cell_type": "markdown",
      "source": [
        "### Analysing the time spent by the group of people"
      ],
      "metadata": {
        "id": "eGMDvChvJneb"
      },
      "id": "eGMDvChvJneb"
    },
    {
      "cell_type": "code",
      "source": [
        "sns.barplot(data = df, x = 'group', y = 'time_spent_on_the_page');"
      ],
      "metadata": {
        "colab": {
          "base_uri": "https://localhost:8080/",
          "height": 282
        },
        "id": "8HRnuGNDJNug",
        "outputId": "7ab92be6-9f1f-43a1-84f7-285e7faa0f05"
      },
      "id": "8HRnuGNDJNug",
      "execution_count": 81,
      "outputs": [
        {
          "output_type": "display_data",
          "data": {
            "text/plain": [
              "<Figure size 432x288 with 1 Axes>"
            ],
            "image/png": "[encoded data removed]"
          },
          "metadata": {
            "needs_background": "light"
          }
        }
      ]
    },
    {
      "cell_type": "code",
      "source": [
        "df.groupby(['group'])['time_spent_on_the_page'].mean()"
      ],
      "metadata": {
        "colab": {
          "base_uri": "https://localhost:8080/"
        },
        "id": "iKSc1DmdJQvs",
        "outputId": "43aa6f91-114f-405a-9074-65f5786321fb"
      },
      "id": "iKSc1DmdJQvs",
      "execution_count": 82,
      "outputs": [
        {
          "output_type": "execute_result",
          "data": {
            "text/plain": [
              "group\n",
              "control      4.5324\n",
              "treatment    6.2232\n",
              "Name: time_spent_on_the_page, dtype: float64"
            ]
          },
          "metadata": {},
          "execution_count": 82
        }
      ]
    },
    {
      "cell_type": "markdown",
      "source": [
        "#### Observations:\n",
        "\n",
        "The treatment group(those exposed to the new landing page) are more likely to spend more time on the page."
      ],
      "metadata": {
        "id": "7aORzoThJWJz"
      },
      "id": "7aORzoThJWJz"
    },
    {
      "cell_type": "markdown",
      "source": [
        "### Analysing the time spent by the users on the landing page"
      ],
      "metadata": {
        "id": "NnfRXZB9J7NC"
      },
      "id": "NnfRXZB9J7NC"
    },
    {
      "cell_type": "code",
      "metadata": {
        "id": "58e9a1d0",
        "colab": {
          "base_uri": "https://localhost:8080/",
          "height": 552
        },
        "outputId": "0cef4966-b75d-4001-a51e-3d355e741504"
      },
      "source": [
        "# Analysing the time spent by the users on the landing pages\n",
        "plt.figure(figsize=(9, 9))\n",
        "sns.boxplot(data = df, x = 'landing_page', y = 'time_spent_on_the_page')\n",
        "plt.show()"
      ],
      "id": "58e9a1d0",
      "execution_count": 83,
      "outputs": [
        {
          "output_type": "display_data",
          "data": {
            "text/plain": [
              "<Figure size 648x648 with 1 Axes>"
            ],
            "image/png": "[encoded data removed]"
          },
          "metadata": {
            "needs_background": "light"
          }
        }
      ]
    },
    {
      "cell_type": "markdown",
      "source": [
        "#### Observations:\n",
        "\n",
        "The same observation from above applies to this one too. Users exposed to the new landing page spend more time on average than those on the old landing page."
      ],
      "metadata": {
        "id": "a2CQ_5CnJE97"
      },
      "id": "a2CQ_5CnJE97"
    },
    {
      "cell_type": "markdown",
      "source": [
        "### Time spent on the page vs group of people converted after spending time on the landing pages"
      ],
      "metadata": {
        "id": "H4O1w7ozKK8o"
      },
      "id": "H4O1w7ozKK8o"
    },
    {
      "cell_type": "code",
      "source": [
        "# Visualising the time spent on the page by the group of people\n",
        "plt.figure(figsize=(9, 9))\n",
        "sns.boxplot(data = df, x = 'converted', y = 'time_spent_on_the_page')\n",
        "plt.show()"
      ],
      "metadata": {
        "colab": {
          "base_uri": "https://localhost:8080/",
          "height": 551
        },
        "id": "q1JxU6xNWXlJ",
        "outputId": "77abaaaf-e25d-48da-ce36-1826f0548404"
      },
      "id": "q1JxU6xNWXlJ",
      "execution_count": 84,
      "outputs": [
        {
          "output_type": "display_data",
          "data": {
            "text/plain": [
              "<Figure size 648x648 with 1 Axes>"
            ],
            "image/png": "[encoded data removed]"
          },
          "metadata": {
            "needs_background": "light"
          }
        }
      ]
    },
    {
      "cell_type": "code",
      "source": [
        "df.groupby(['converted'])['time_spent_on_the_page'].mean()"
      ],
      "metadata": {
        "colab": {
          "base_uri": "https://localhost:8080/"
        },
        "id": "AFkHIRObiACB",
        "outputId": "6753a971-80d2-4297-a3c3-473bb13263b5"
      },
      "id": "AFkHIRObiACB",
      "execution_count": 85,
      "outputs": [
        {
          "output_type": "execute_result",
          "data": {
            "text/plain": [
              "converted\n",
              "no     3.915870\n",
              "yes    6.623148\n",
              "Name: time_spent_on_the_page, dtype: float64"
            ]
          },
          "metadata": {},
          "execution_count": 85
        }
      ]
    },
    {
      "cell_type": "markdown",
      "source": [
        "#### Observations:\n",
        "\n",
        "Users who converted demonstrate on average a higher time spent on the page"
      ],
      "metadata": {
        "id": "ynL7UybQiHTh"
      },
      "id": "ynL7UybQiHTh"
    },
    {
      "cell_type": "markdown",
      "source": [
        "### Visualisation of the users who spent time on the landing pages and what languages they speak"
      ],
      "metadata": {
        "id": "wSzTSuHpKhiQ"
      },
      "id": "wSzTSuHpKhiQ"
    },
    {
      "cell_type": "code",
      "source": [
        "# Visualisation of the users who spent time on the landing pages and what languages they speak\n",
        "plt.figure(figsize=(9, 9))\n",
        "sns.boxplot(data = df, x = 'language_preferred', y = 'time_spent_on_the_page')\n",
        "plt.show()"
      ],
      "metadata": {
        "colab": {
          "base_uri": "https://localhost:8080/",
          "height": 552
        },
        "id": "DMFK-v23Wrni",
        "outputId": "7fbb1264-371d-4a73-b799-06250f66ac54"
      },
      "id": "DMFK-v23Wrni",
      "execution_count": 86,
      "outputs": [
        {
          "output_type": "display_data",
          "data": {
            "text/plain": [
              "<Figure size 648x648 with 1 Axes>"
            ],
            "image/png": "[encoded data removed]"
          },
          "metadata": {
            "needs_background": "light"
          }
        }
      ]
    },
    {
      "cell_type": "code",
      "source": [
        "df.groupby(['language_preferred'])['time_spent_on_the_page'].mean()"
      ],
      "metadata": {
        "colab": {
          "base_uri": "https://localhost:8080/"
        },
        "id": "nuHFORDLiNxi",
        "outputId": "17d976b2-e2bd-4386-c67c-bddfd67fd26c"
      },
      "id": "nuHFORDLiNxi",
      "execution_count": 87,
      "outputs": [
        {
          "output_type": "execute_result",
          "data": {
            "text/plain": [
              "language_preferred\n",
              "English    5.559062\n",
              "French     5.253235\n",
              "Spanish    5.331765\n",
              "Name: time_spent_on_the_page, dtype: float64"
            ]
          },
          "metadata": {},
          "execution_count": 87
        }
      ]
    },
    {
      "cell_type": "markdown",
      "source": [
        "#### Observations:\n",
        "\n",
        "Among the different languages English, French, and Spanish the average time spent on the page seems relatively the same."
      ],
      "metadata": {
        "id": "doSSgz7YiQlI"
      },
      "id": "doSSgz7YiQlI"
    },
    {
      "cell_type": "markdown",
      "source": [
        "### Correlation between languages preferred, group of people converted, and landing pages"
      ],
      "metadata": {
        "id": "JLlF8dK7Kkbe"
      },
      "id": "JLlF8dK7Kkbe"
    },
    {
      "cell_type": "code",
      "source": [
        "sns.catplot(data = df, x = 'language_preferred', hue = 'converted', col = 'landing_page', kind = 'count');"
      ],
      "metadata": {
        "colab": {
          "base_uri": "https://localhost:8080/",
          "height": 369
        },
        "id": "KddBS4vXiZKT",
        "outputId": "471b1259-93d1-402a-8a5f-5b46105484c9"
      },
      "id": "KddBS4vXiZKT",
      "execution_count": 88,
      "outputs": [
        {
          "output_type": "display_data",
          "data": {
            "text/plain": [
              "<Figure size 778.375x360 with 2 Axes>"
            ],
            "image/png": "[encoded data removed]"
          },
          "metadata": {
            "needs_background": "light"
          }
        }
      ]
    },
    {
      "cell_type": "markdown",
      "source": [
        "#### Observations:\n",
        "\n",
        "French and Spanish speaking users are less likely to convert to the new landing page if first exposed to the old landing page. Whereas, if they are first exposed to the new landing page they are more likely to convert."
      ],
      "metadata": {
        "id": "wVraoMP4ildc"
      },
      "id": "wVraoMP4ildc"
    },
    {
      "cell_type": "markdown",
      "source": [
        "**New landing page**\n",
        "\n",
        "*  French users show the highest conversion rate\n",
        "*  Followed by Spanish and the English\n",
        "*  There is only a very little difference in the total number of users who converted between languages\n",
        "\n",
        "**Old landing page**\n",
        "\n",
        "*  French users show the least conversion rate\n",
        "*  Followed by Spanish and then English\n",
        "*  The highest conversion rate for the old landing page is by the users who prefer English, followed by Spanish"
      ],
      "metadata": {
        "id": "pMY3-hKsdLAS"
      },
      "id": "pMY3-hKsdLAS"
    },
    {
      "cell_type": "markdown",
      "source": [
        "**Key Insights from EDA**\n",
        "\n",
        "*  The average time spent on the webportal is around 6 mins\n",
        "*  On an average more time is spent on the new landing page\n",
        "*  54/100 users have become subscribers indicates we have subscribers from both the landing pages\n",
        "*  The number of users are almost the same across the three languages for both new and old landing pages\n",
        "*  Users' language preferrence is equal for both new and old landing pages\n",
        "*  On an average, larger number of subscribers prefer English language\n",
        "*  Above all, the more time a user spends, he/she is likely to become a subscriber, regardless of the landing page/language preferred"
      ],
      "metadata": {
        "id": "a0JNimg1dgGD"
      },
      "id": "a0JNimg1dgGD"
    },
    {
      "cell_type": "markdown",
      "metadata": {
        "id": "27906576"
      },
      "source": [
        "## 1. Do the users spend more time on the new landing page than the existing landing page?"
      ],
      "id": "27906576"
    },
    {
      "cell_type": "markdown",
      "metadata": {
        "id": "e5fdf0c8"
      },
      "source": [
        "### Perform Visual Analysis"
      ],
      "id": "e5fdf0c8"
    },
    {
      "cell_type": "code",
      "metadata": {
        "id": "6eZJa41eg21n",
        "colab": {
          "base_uri": "https://localhost:8080/",
          "height": 389
        },
        "outputId": "20b86ec3-13c2-45cf-a53b-eb6ca5ef3a69"
      },
      "source": [
        "# visual analysis of the time spent on the new page and the time spent on the old page\n",
        "plt.figure(figsize=(8,6))\n",
        "sns.boxplot(x = 'landing_page', y = 'time_spent_on_the_page', data = df)\n",
        "plt.show()"
      ],
      "id": "6eZJa41eg21n",
      "execution_count": 89,
      "outputs": [
        {
          "output_type": "display_data",
          "data": {
            "text/plain": [
              "<Figure size 576x432 with 1 Axes>"
            ],
            "image/png": "[encoded data removed]"
          },
          "metadata": {
            "needs_background": "light"
          }
        }
      ]
    },
    {
      "cell_type": "code",
      "source": [
        "df.groupby(['landing_page'])['time_spent_on_the_page'].mean()"
      ],
      "metadata": {
        "colab": {
          "base_uri": "https://localhost:8080/"
        },
        "id": "2YM1Bgxyi2jX",
        "outputId": "a36ac894-5887-4039-e1c0-d8def443eb60"
      },
      "id": "2YM1Bgxyi2jX",
      "execution_count": 90,
      "outputs": [
        {
          "output_type": "execute_result",
          "data": {
            "text/plain": [
              "landing_page\n",
              "new    6.2232\n",
              "old    4.5324\n",
              "Name: time_spent_on_the_page, dtype: float64"
            ]
          },
          "metadata": {},
          "execution_count": 90
        }
      ]
    },
    {
      "cell_type": "markdown",
      "source": [
        "#### Observations:\n",
        "\n",
        "\n",
        "*   The boxplot suggests that the mean time spent on the new landing page is more than that of the mean time spent in the old page.\n",
        "\n"
      ],
      "metadata": {
        "id": "u1IpF-z7IB7c"
      },
      "id": "u1IpF-z7IB7c"
    },
    {
      "cell_type": "markdown",
      "metadata": {
        "id": "56b3dafd"
      },
      "source": [
        "### Step 1: Define the null and alternate hypotheses"
      ],
      "id": "56b3dafd"
    },
    {
      "cell_type": "markdown",
      "metadata": {
        "id": "d2ac77ef"
      },
      "source": [
        "Let µ1 and µ2 are the time spent in the old landing page and new landing page respectively.\n",
        "\n",
        "$H_0$: µ1 = µ2\n",
        "\n",
        "$H_a$: µ1 < µ2"
      ],
      "id": "d2ac77ef"
    },
    {
      "cell_type": "markdown",
      "metadata": {
        "id": "c7ee4907"
      },
      "source": [
        "### Step 2: Select Appropriate test"
      ],
      "id": "c7ee4907"
    },
    {
      "cell_type": "markdown",
      "metadata": {
        "id": "2c183cd7"
      },
      "source": [
        "It seems to be the case of one-tailed two sample t-test. So we here will use paired t-test on the problem."
      ],
      "id": "2c183cd7"
    },
    {
      "cell_type": "markdown",
      "metadata": {
        "id": "3f58c9a7"
      },
      "source": [
        "### Step 3: Decide the significance level"
      ],
      "id": "3f58c9a7"
    },
    {
      "cell_type": "markdown",
      "metadata": {
        "id": "92d7d7ee"
      },
      "source": [
        "We take the significance level as 0.05 (which is 5% significance level)."
      ],
      "id": "92d7d7ee"
    },
    {
      "cell_type": "markdown",
      "metadata": {
        "id": "5fed2eac"
      },
      "source": [
        "### Step 4: Collect and prepare data"
      ],
      "id": "5fed2eac"
    },
    {
      "cell_type": "code",
      "metadata": {
        "id": "f5a59495"
      },
      "source": [
        "# create subsetted data frame for new landing page users \n",
        "time_spent_new = df[df['landing_page'] == 'new']['time_spent_on_the_page']\n",
        "\n",
        "# create subsetted data frame for old landing page users\n",
        "time_spent_old = df[df['landing_page'] == 'old']['time_spent_on_the_page']"
      ],
      "id": "f5a59495",
      "execution_count": 91,
      "outputs": []
    },
    {
      "cell_type": "code",
      "source": [
        "print('The sample standard deviation of the time spent on the new page is:', round(time_spent_new.std(),2))\n",
        "print('The sample standard deviation of the time spent on the new page is:', round(time_spent_old.std(),2))"
      ],
      "metadata": {
        "colab": {
          "base_uri": "https://localhost:8080/"
        },
        "id": "7GU7M6RMmbp4",
        "outputId": "87a18bce-ca30-472b-a27a-69644185e8eb"
      },
      "id": "7GU7M6RMmbp4",
      "execution_count": 92,
      "outputs": [
        {
          "output_type": "stream",
          "name": "stdout",
          "text": [
            "The sample standard deviation of the time spent on the new page is: 1.82\n",
            "The sample standard deviation of the time spent on the new page is: 2.58\n"
          ]
        }
      ]
    },
    {
      "cell_type": "markdown",
      "source": [
        "#### Observations:\n",
        "\n",
        "Based on the standard deviation, we can say that the standard deviation is not equal in both the cases."
      ],
      "metadata": {
        "id": "K36y6f7bmoLE"
      },
      "id": "K36y6f7bmoLE"
    },
    {
      "cell_type": "markdown",
      "metadata": {
        "id": "f5c5258d"
      },
      "source": [
        "### Step 5: Calculate the p-value"
      ],
      "id": "f5c5258d"
    },
    {
      "cell_type": "code",
      "metadata": {
        "id": "fac8594a"
      },
      "source": [
        "# Importing the required libraries\n",
        "import scipy.stats as stats\n",
        "from scipy.stats import ttest_rel"
      ],
      "id": "fac8594a",
      "execution_count": 93,
      "outputs": []
    },
    {
      "cell_type": "code",
      "source": [
        "# find the p-value\n",
        "test_stat, p_value  = stats.ttest_rel(time_spent_new, time_spent_old, alternative = 'greater')  #Performing a paired t-test\n",
        "\n",
        "print('The p-value is', p_value)"
      ],
      "metadata": {
        "colab": {
          "base_uri": "https://localhost:8080/"
        },
        "id": "YTsOsBQ7o8nd",
        "outputId": "39f130eb-ce40-4338-f15f-d031a7efe0b6"
      },
      "id": "YTsOsBQ7o8nd",
      "execution_count": 94,
      "outputs": [
        {
          "output_type": "stream",
          "name": "stdout",
          "text": [
            "The p-value is 0.00029910900937037973\n"
          ]
        }
      ]
    },
    {
      "cell_type": "markdown",
      "metadata": {
        "id": "359b12f8"
      },
      "source": [
        "### Step 6: Compare the p-value with $\\alpha$"
      ],
      "id": "359b12f8"
    },
    {
      "cell_type": "code",
      "metadata": {
        "id": "7be47289",
        "colab": {
          "base_uri": "https://localhost:8080/"
        },
        "outputId": "a99324dd-1c2f-4155-c412-e7b065400b77"
      },
      "source": [
        "# print the conclusion based on p-value\n",
        "if p_value < 0.05:\n",
        "    print(f'As the p-value {p_value} is less than the level of significance, we reject the null hypothesis.')\n",
        "else:\n",
        "    print(f'As the p-value {p_value} is greater than the level of significance, we fail to reject the null hypothesis.')"
      ],
      "id": "7be47289",
      "execution_count": 95,
      "outputs": [
        {
          "output_type": "stream",
          "name": "stdout",
          "text": [
            "As the p-value 0.00029910900937037973 is less than the level of significance, we reject the null hypothesis.\n"
          ]
        }
      ]
    },
    {
      "cell_type": "markdown",
      "metadata": {
        "id": "d9affc84"
      },
      "source": [
        "### Step 7:  Draw inference"
      ],
      "id": "d9affc84"
    },
    {
      "cell_type": "markdown",
      "metadata": {
        "id": "6b16dd4b"
      },
      "source": [
        "At 5% significance level, we reject the null hypothesis. Hence we have enough statistical evidence to say that the new landing page encourages users to spend more time than on the old landing page."
      ],
      "id": "6b16dd4b"
    },
    {
      "cell_type": "markdown",
      "metadata": {
        "id": "1ad0823a"
      },
      "source": [
        "**A similar approach can be followed to answer the other questions.**"
      ],
      "id": "1ad0823a"
    },
    {
      "cell_type": "markdown",
      "metadata": {
        "id": "353e9d24"
      },
      "source": [
        "## 2. Is the conversion rate (the proportion of users who visit the landing page and get converted) for the new page greater than the conversion rate for the old page?"
      ],
      "id": "353e9d24"
    },
    {
      "cell_type": "markdown",
      "source": [
        "### Perform visual analysis"
      ],
      "metadata": {
        "id": "sDnpK4evIVTj"
      },
      "id": "sDnpK4evIVTj"
    },
    {
      "cell_type": "code",
      "metadata": {
        "id": "b7f52898",
        "colab": {
          "base_uri": "https://localhost:8080/",
          "height": 504
        },
        "outputId": "7a452866-13d8-4d20-91bc-49fbc75a5c95"
      },
      "source": [
        "# Code to visually compare the conversion rate for the new page and the conversion rate for the old page\n",
        "pd.crosstab(df['converted'],df['landing_page'],normalize='index').plot(kind=\"bar\", figsize=(6,8),stacked=True)\n",
        "plt.legend()\n",
        "plt.show();"
      ],
      "id": "b7f52898",
      "execution_count": 96,
      "outputs": [
        {
          "output_type": "display_data",
          "data": {
            "text/plain": [
              "<Figure size 432x576 with 1 Axes>"
            ],
            "image/png": "[encoded data removed]"
          },
          "metadata": {
            "needs_background": "light"
          }
        }
      ]
    },
    {
      "cell_type": "markdown",
      "source": [
        "#### Observations:\n",
        "\n",
        "Users engaging with new landing page seem to convert more than the users engaging with the old one."
      ],
      "metadata": {
        "id": "5u84BnZg3XQ4"
      },
      "id": "5u84BnZg3XQ4"
    },
    {
      "cell_type": "markdown",
      "source": [
        "### Step 1 : Let's define the null and alternate hypothesis\n",
        "\n",
        "Let m1 and m2 be the mean conversion rate for old and new landing pages.\n",
        "\n",
        "$H_0:$ m1 = m2\n",
        "\n",
        "$H_a:$  m1 < m2\n"
      ],
      "metadata": {
        "id": "yECA4tHi6CLl"
      },
      "id": "yECA4tHi6CLl"
    },
    {
      "cell_type": "markdown",
      "source": [
        "### Step 2 : Select Appropriate Test"
      ],
      "metadata": {
        "id": "3rkq0rokIusy"
      },
      "id": "3rkq0rokIusy"
    },
    {
      "cell_type": "markdown",
      "source": [
        "Based on the given data above, we can say that this is one-tailed, proportion test, with two independent populations. So we use two proportion z-test."
      ],
      "metadata": {
        "id": "NRFcZDFg_T2L"
      },
      "id": "NRFcZDFg_T2L"
    },
    {
      "cell_type": "markdown",
      "source": [
        "### Step 3 : Assigning significance level"
      ],
      "metadata": {
        "id": "rTr-WcBoJnrE"
      },
      "id": "rTr-WcBoJnrE"
    },
    {
      "cell_type": "markdown",
      "source": [
        "As given in the problem statement, we use significance level = 0.05."
      ],
      "metadata": {
        "id": "sdL6CqV5_uF1"
      },
      "id": "sdL6CqV5_uF1"
    },
    {
      "cell_type": "markdown",
      "source": [
        "### Step 4 : Process and prepare data"
      ],
      "metadata": {
        "id": "gYikRS6lI4RP"
      },
      "id": "gYikRS6lI4RP"
    },
    {
      "cell_type": "code",
      "source": [
        "# Calculating the number of converted users in the treatment group\n",
        "new_converted = df[df['group'] == 'treatment']['converted'].value_counts()['yes']\n",
        "# Calculating the number of converted users in the control group\n",
        "old_converted = df[df['group'] == 'control']['converted'].value_counts()['yes'] \n",
        "\n",
        "n_control = df.group.value_counts()['control'] # total number of users in the control group\n",
        "n_treatment = df.group.value_counts()['treatment'] # total number of users in the treatment group\n",
        "\n",
        "print('The numbers of users served the new and old pages are {0} and {1} respectively'.format(n_control, n_treatment ))"
      ],
      "metadata": {
        "colab": {
          "base_uri": "https://localhost:8080/"
        },
        "id": "imw2-QoK8r-V",
        "outputId": "775a8eea-3295-4029-9831-24f0d67cf434"
      },
      "id": "imw2-QoK8r-V",
      "execution_count": 97,
      "outputs": [
        {
          "output_type": "stream",
          "name": "stdout",
          "text": [
            "The numbers of users served the new and old pages are 50 and 50 respectively\n"
          ]
        }
      ]
    },
    {
      "cell_type": "markdown",
      "source": [
        "### Step 5 : Finding p-value"
      ],
      "metadata": {
        "id": "yrjAiQhMJHbV"
      },
      "id": "yrjAiQhMJHbV"
    },
    {
      "cell_type": "code",
      "source": [
        "# Importing the necessary libraries\n",
        "from statsmodels.stats.proportion import proportions_ztest  \n",
        "\n",
        "# Code for calculating the p-value\n",
        "test_stat, p_value = proportions_ztest([new_converted, old_converted] , [n_treatment, n_control], alternative = 'larger')   #complete the code by filling appropriate parameters in the blanks\n",
        "\n",
        "\n",
        "print('The p-value is', p_value)"
      ],
      "metadata": {
        "colab": {
          "base_uri": "https://localhost:8080/"
        },
        "id": "qxgVjCu1AVSI",
        "outputId": "5222e0cc-f676-4cbb-e635-1a312a6633ec"
      },
      "id": "qxgVjCu1AVSI",
      "execution_count": 98,
      "outputs": [
        {
          "output_type": "stream",
          "name": "stdout",
          "text": [
            "The p-value is 0.008026308204056278\n"
          ]
        }
      ]
    },
    {
      "cell_type": "markdown",
      "source": [
        "### Step 6: Compare the p-value with $\\alpha$"
      ],
      "metadata": {
        "id": "WvG_dn6nJ6xK"
      },
      "id": "WvG_dn6nJ6xK"
    },
    {
      "cell_type": "code",
      "source": [
        "# Conclusion based on the p-value\n",
        "if p_value < 0.05:\n",
        "    print(f'As the p-value {p_value} is less than the level of significance, we reject the null hypothesis.')\n",
        "else:\n",
        "    print(f'As the p-value {p_value} is greater than the level of significance, we fail to reject the null hypothesis.')"
      ],
      "metadata": {
        "colab": {
          "base_uri": "https://localhost:8080/"
        },
        "id": "RnfaalcBA5lT",
        "outputId": "c36346d2-cf19-4a89-da79-920818e81a09"
      },
      "id": "RnfaalcBA5lT",
      "execution_count": 99,
      "outputs": [
        {
          "output_type": "stream",
          "name": "stdout",
          "text": [
            "As the p-value 0.008026308204056278 is less than the level of significance, we reject the null hypothesis.\n"
          ]
        }
      ]
    },
    {
      "cell_type": "markdown",
      "source": [
        "### Step 7:  Draw inference"
      ],
      "metadata": {
        "id": "Hiy7xYJ6KEct"
      },
      "id": "Hiy7xYJ6KEct"
    },
    {
      "cell_type": "markdown",
      "source": [
        "At 5% significance level, we reject the null hypothesis. Hence we have enough statistical evidence to say that the conversion rate is greater for new landing page"
      ],
      "metadata": {
        "id": "NTmAPpFELzpC"
      },
      "id": "NTmAPpFELzpC"
    },
    {
      "cell_type": "markdown",
      "source": [
        "### Conclusion:\n",
        "\n",
        "In this scenario, the p-value is smaller than 0.05 so we reject the null hypothesis.\n",
        "\n",
        "Thus we can say that there is enough evidence to say that the conversion rate of the users for new landing page is greater than the conversion rate of users for old landing page."
      ],
      "metadata": {
        "id": "OREq6RXHA_vk"
      },
      "id": "OREq6RXHA_vk"
    },
    {
      "cell_type": "markdown",
      "metadata": {
        "id": "d49bfa2d"
      },
      "source": [
        "## 3. Is the conversion and preferred language are independent or related?"
      ],
      "id": "d49bfa2d"
    },
    {
      "cell_type": "markdown",
      "source": [
        "### Perform visual analysis"
      ],
      "metadata": {
        "id": "JweccxIEKN_6"
      },
      "id": "JweccxIEKN_6"
    },
    {
      "cell_type": "code",
      "metadata": {
        "id": "b0e63f17",
        "colab": {
          "base_uri": "https://localhost:8080/",
          "height": 504
        },
        "outputId": "3b6c9b6d-5aac-4035-96d3-a094081ea75d"
      },
      "source": [
        "# Visualising \n",
        "pd.crosstab(df['converted'],df['language_preferred'],normalize='index').plot(kind=\"bar\", figsize=(6,8), stacked=True)\n",
        "plt.legend()\n",
        "plt.show();\n"
      ],
      "id": "b0e63f17",
      "execution_count": 100,
      "outputs": [
        {
          "output_type": "display_data",
          "data": {
            "text/plain": [
              "<Figure size 432x576 with 1 Axes>"
            ],
            "image/png": "[encoded data removed]"
          },
          "metadata": {
            "needs_background": "light"
          }
        }
      ]
    },
    {
      "cell_type": "markdown",
      "source": [
        "### Step 1 : Define null and alternate hypothesis"
      ],
      "metadata": {
        "id": "La0nEh5tLGS9"
      },
      "id": "La0nEh5tLGS9"
    },
    {
      "cell_type": "markdown",
      "source": [
        "$H_0:$ Converted status is independent of language preferred\n",
        "\n",
        "$H_a:$ Converted status depends on language preferred"
      ],
      "metadata": {
        "id": "-r9n_yn7LpTA"
      },
      "id": "-r9n_yn7LpTA"
    },
    {
      "cell_type": "markdown",
      "source": [
        "### Step 2 : Select Appropriate test"
      ],
      "metadata": {
        "id": "kAiVsDWAMEeW"
      },
      "id": "kAiVsDWAMEeW"
    },
    {
      "cell_type": "markdown",
      "source": [
        "As the question is to determine if the converted status depends on the language preferred, I conclude to perform the Chi-Square Test for Independence."
      ],
      "metadata": {
        "id": "yUZMpcbrMgsW"
      },
      "id": "yUZMpcbrMgsW"
    },
    {
      "cell_type": "markdown",
      "source": [
        "### Step 3: Decide the significance level"
      ],
      "metadata": {
        "id": "j-6kfrVduJM1"
      },
      "id": "j-6kfrVduJM1"
    },
    {
      "cell_type": "markdown",
      "source": [
        "As given in the problem statement, we select significance level as 0.05"
      ],
      "metadata": {
        "id": "mBLz8VZ_uLqj"
      },
      "id": "mBLz8VZ_uLqj"
    },
    {
      "cell_type": "markdown",
      "source": [
        "### Step 4: Collect and prepare data"
      ],
      "metadata": {
        "id": "_uGcPYs5uWWW"
      },
      "id": "_uGcPYs5uWWW"
    },
    {
      "cell_type": "code",
      "source": [
        "# Creating a contingency table for two categorical variable\n",
        "contingency_table = pd.crosstab(df['converted'], df['language_preferred'])  \n",
        "\n",
        "contingency_table"
      ],
      "metadata": {
        "colab": {
          "base_uri": "https://localhost:8080/",
          "height": 143
        },
        "id": "8KfLsoPRKLdp",
        "outputId": "24520205-01c0-4b73-d7f4-5e3437ab9d6a"
      },
      "id": "8KfLsoPRKLdp",
      "execution_count": 101,
      "outputs": [
        {
          "output_type": "execute_result",
          "data": {
            "text/plain": [
              "language_preferred  English  French  Spanish\n",
              "converted                                   \n",
              "no                       11      19       16\n",
              "yes                      21      15       18"
            ],
            "text/html": [
              "\n",
              "  <div id=\"df-b3e39b2d-697c-4609-89d2-e4ff748c23c1\">\n",
              "    <div class=\"colab-df-container\">\n",
              "      <div>\n",
              "<style scoped>\n",
              "    .dataframe tbody tr th:only-of-type {\n",
              "        vertical-align: middle;\n",
              "    }\n",
              "\n",
              "    .dataframe tbody tr th {\n",
              "        vertical-align: top;\n",
              "    }\n",
              "\n",
              "    .dataframe thead th {\n",
              "        text-align: right;\n",
              "    }\n",
              "</style>\n",
              "<table border=\"1\" class=\"dataframe\">\n",
              "  <thead>\n",
              "    <tr style=\"text-align: right;\">\n",
              "      <th>language_preferred</th>\n",
              "      <th>English</th>\n",
              "      <th>French</th>\n",
              "      <th>Spanish</th>\n",
              "    </tr>\n",
              "    <tr>\n",
              "      <th>converted</th>\n",
              "      <th></th>\n",
              "      <th></th>\n",
              "      <th></th>\n",
              "    </tr>\n",
              "  </thead>\n",
              "  <tbody>\n",
              "    <tr>\n",
              "      <th>no</th>\n",
              "      <td>11</td>\n",
              "      <td>19</td>\n",
              "      <td>16</td>\n",
              "    </tr>\n",
              "    <tr>\n",
              "      <th>yes</th>\n",
              "      <td>21</td>\n",
              "      <td>15</td>\n",
              "      <td>18</td>\n",
              "    </tr>\n",
              "  </tbody>\n",
              "</table>\n",
              "</div>\n",
              "      <button class=\"colab-df-convert\" onclick=\"convertToInteractive('df-b3e39b2d-697c-4609-89d2-e4ff748c23c1')\"\n",
              "              title=\"Convert this dataframe to an interactive table.\"\n",
              "              style=\"display:none;\">\n",
              "        \n",
              "  <svg xmlns=\"http://www.w3.org/2000/svg\" height=\"24px\"viewBox=\"0 0 24 24\"\n",
              "       width=\"24px\">\n",
              "    <path d=\"M0 0h24v24H0V0z\" fill=\"none\"/>\n",
              "    <path d=\"M18.56 5.44l.94 2.06.94-2.06 2.06-.94-2.06-.94-.94-2.06-.94 2.06-2.06.94zm-11 1L8.5 8.5l.94-2.06 2.06-.94-2.06-.94L8.5 2.5l-.94 2.06-2.06.94zm10 10l.94 2.06.94-2.06 2.06-.94-2.06-.94-.94-2.06-.94 2.06-2.06.94z\"/><path d=\"M17.41 7.96l-1.37-1.37c-.4-.4-.92-.59-1.43-.59-.52 0-1.04.2-1.43.59L10.3 9.45l-7.72 7.72c-.78.78-.78 2.05 0 2.83L4 21.41c.39.39.9.59 1.41.59.51 0 1.02-.2 1.41-.59l7.78-7.78 2.81-2.81c.8-.78.8-2.07 0-2.86zM5.41 20L4 18.59l7.72-7.72 1.47 1.35L5.41 20z\"/>\n",
              "  </svg>\n",
              "      </button>\n",
              "      \n",
              "  <style>\n",
              "    .colab-df-container {\n",
              "      display:flex;\n",
              "      flex-wrap:wrap;\n",
              "      gap: 12px;\n",
              "    }\n",
              "\n",
              "    .colab-df-convert {\n",
              "      background-color: #E8F0FE;\n",
              "      border: none;\n",
              "      border-radius: 50%;\n",
              "      cursor: pointer;\n",
              "      display: none;\n",
              "      fill: #1967D2;\n",
              "      height: 32px;\n",
              "      padding: 0 0 0 0;\n",
              "      width: 32px;\n",
              "    }\n",
              "\n",
              "    .colab-df-convert:hover {\n",
              "      background-color: #E2EBFA;\n",
              "      box-shadow: 0px 1px 2px rgba(60, 64, 67, 0.3), 0px 1px 3px 1px rgba(60, 64, 67, 0.15);\n",
              "      fill: #174EA6;\n",
              "    }\n",
              "\n",
              "    [theme=dark] .colab-df-convert {\n",
              "      background-color: #3B4455;\n",
              "      fill: #D2E3FC;\n",
              "    }\n",
              "\n",
              "    [theme=dark] .colab-df-convert:hover {\n",
              "      background-color: #434B5C;\n",
              "      box-shadow: 0px 1px 3px 1px rgba(0, 0, 0, 0.15);\n",
              "      filter: drop-shadow(0px 1px 2px rgba(0, 0, 0, 0.3));\n",
              "      fill: #FFFFFF;\n",
              "    }\n",
              "  </style>\n",
              "\n",
              "      <script>\n",
              "        const buttonEl =\n",
              "          document.querySelector('#df-b3e39b2d-697c-4609-89d2-e4ff748c23c1 button.colab-df-convert');\n",
              "        buttonEl.style.display =\n",
              "          google.colab.kernel.accessAllowed ? 'block' : 'none';\n",
              "\n",
              "        async function convertToInteractive(key) {\n",
              "          const element = document.querySelector('#df-b3e39b2d-697c-4609-89d2-e4ff748c23c1');\n",
              "          const dataTable =\n",
              "            await google.colab.kernel.invokeFunction('convertToInteractive',\n",
              "                                                     [key], {});\n",
              "          if (!dataTable) return;\n",
              "\n",
              "          const docLinkHtml = 'Like what you see? Visit the ' +\n",
              "            '<a target=\"_blank\" href=https://colab.research.google.com/notebooks/data_table.ipynb>data table notebook</a>'\n",
              "            + ' to learn more about interactive tables.';\n",
              "          element.innerHTML = '';\n",
              "          dataTable['output_type'] = 'display_data';\n",
              "          await google.colab.output.renderOutput(dataTable, element);\n",
              "          const docLink = document.createElement('div');\n",
              "          docLink.innerHTML = docLinkHtml;\n",
              "          element.appendChild(docLink);\n",
              "        }\n",
              "      </script>\n",
              "    </div>\n",
              "  </div>\n",
              "  "
            ]
          },
          "metadata": {},
          "execution_count": 101
        }
      ]
    },
    {
      "cell_type": "markdown",
      "source": [
        "### Step 5: Calculate the p-value"
      ],
      "metadata": {
        "id": "8-wh53TfyIfb"
      },
      "id": "8-wh53TfyIfb"
    },
    {
      "cell_type": "code",
      "source": [
        "# Importing the required libraries for test\n",
        "from scipy.stats import chi2_contingency\n",
        "\n",
        "# Code for calculating the p-value\n",
        "chi2, p_value, dof, exp_freq = chi2_contingency(contingency_table)  \n",
        "\n",
        "print('The p-value is', p_value)"
      ],
      "metadata": {
        "colab": {
          "base_uri": "https://localhost:8080/"
        },
        "id": "KvEGPFv0KLgH",
        "outputId": "2e2a23e0-5557-4edd-abb6-92448997c487"
      },
      "id": "KvEGPFv0KLgH",
      "execution_count": 102,
      "outputs": [
        {
          "output_type": "stream",
          "name": "stdout",
          "text": [
            "The p-value is 0.21298887487543447\n"
          ]
        }
      ]
    },
    {
      "cell_type": "markdown",
      "source": [
        "### Step 6: Compare the p-value with $\\alpha$"
      ],
      "metadata": {
        "id": "NupeuoIhy5MT"
      },
      "id": "NupeuoIhy5MT"
    },
    {
      "cell_type": "code",
      "source": [
        "# print the conclusion based on p-value\n",
        "if p_value < 0.05:\n",
        "    print(f'As the p-value {p_value} is less than the level of significance, we reject the null hypothesis.')\n",
        "else:\n",
        "    print(f'As the p-value {p_value} is greater than the level of significance, we fail to reject the null hypothesis.')"
      ],
      "metadata": {
        "colab": {
          "base_uri": "https://localhost:8080/"
        },
        "id": "1TG4LxUk0FJA",
        "outputId": "b11e8a35-037c-43d8-ba13-58e156b6b37b"
      },
      "id": "1TG4LxUk0FJA",
      "execution_count": 103,
      "outputs": [
        {
          "output_type": "stream",
          "name": "stdout",
          "text": [
            "As the p-value 0.21298887487543447 is greater than the level of significance, we fail to reject the null hypothesis.\n"
          ]
        }
      ]
    },
    {
      "cell_type": "markdown",
      "source": [
        "### Step 7:  Draw inference"
      ],
      "metadata": {
        "id": "pMkEq9Hb0JWa"
      },
      "id": "pMkEq9Hb0JWa"
    },
    {
      "cell_type": "markdown",
      "source": [
        "Looking at the p-value, we could see that the value is greater than 0.05 so we could not reject the null hypothesis. Hence we don't have enough statistical evidence to say that converted status depends on language preferrence."
      ],
      "metadata": {
        "id": "Iadj-Cl3zAN3"
      },
      "id": "Iadj-Cl3zAN3"
    },
    {
      "cell_type": "markdown",
      "source": [
        "### Conclusion:\n",
        "\n",
        "\n",
        "In this scenario, the p value is 0.213 which is greater than the 0.05. Hence, we fail to reject the null hypothesis.\n",
        "\n",
        "This means that the converted status is independent of language preferred."
      ],
      "metadata": {
        "id": "webIS6HeLjiH"
      },
      "id": "webIS6HeLjiH"
    },
    {
      "cell_type": "markdown",
      "metadata": {
        "id": "8d585a90"
      },
      "source": [
        "## 4. Is the time spent on the new page same for the different language users?"
      ],
      "id": "8d585a90"
    },
    {
      "cell_type": "code",
      "source": [
        "# Creating a new DataFrame for users who got served the new page\n",
        "df_new = df[df['landing_page'] == 'new']"
      ],
      "metadata": {
        "id": "OgEnhXyc0iBD"
      },
      "id": "OgEnhXyc0iBD",
      "execution_count": 104,
      "outputs": []
    },
    {
      "cell_type": "code",
      "source": [
        "# Visualising the plot for the time spent on the new page for different language users\n",
        "plt.figure(figsize=(8,8))\n",
        "sns.boxplot(x = 'time_spent_on_the_page', y = 'language_preferred', showmeans = True, data = df_new)\n",
        "plt.show();"
      ],
      "metadata": {
        "colab": {
          "base_uri": "https://localhost:8080/",
          "height": 498
        },
        "id": "ib3nnRwT0n89",
        "outputId": "bf8f31fd-fa4f-4371-c764-36787200f09c"
      },
      "id": "ib3nnRwT0n89",
      "execution_count": 105,
      "outputs": [
        {
          "output_type": "display_data",
          "data": {
            "text/plain": [
              "<Figure size 576x576 with 1 Axes>"
            ],
            "image/png": "[encoded data removed]"
          },
          "metadata": {
            "needs_background": "light"
          }
        }
      ]
    },
    {
      "cell_type": "code",
      "source": [
        "# Calculating the mean time spent on the new page for different language users\n",
        "df_new.groupby(['language_preferred'])['time_spent_on_the_page'].mean()"
      ],
      "metadata": {
        "colab": {
          "base_uri": "https://localhost:8080/"
        },
        "id": "qW6Agjzh14e0",
        "outputId": "342a75ef-a005-4984-850a-751b5b447c3a"
      },
      "id": "qW6Agjzh14e0",
      "execution_count": 106,
      "outputs": [
        {
          "output_type": "execute_result",
          "data": {
            "text/plain": [
              "language_preferred\n",
              "English    6.663750\n",
              "French     6.196471\n",
              "Spanish    5.835294\n",
              "Name: time_spent_on_the_page, dtype: float64"
            ]
          },
          "metadata": {},
          "execution_count": 106
        }
      ]
    },
    {
      "cell_type": "markdown",
      "source": [
        "#### Observations:\n",
        "\n",
        "The average time spent on the pages seems relatively the same among the different language preferences."
      ],
      "metadata": {
        "id": "V0evNppS0bRf"
      },
      "id": "V0evNppS0bRf"
    },
    {
      "cell_type": "markdown",
      "source": [
        "### Step 1: Define the null and alternate hypothesis"
      ],
      "metadata": {
        "id": "ZlJgMYpe0cAp"
      },
      "id": "ZlJgMYpe0cAp"
    },
    {
      "cell_type": "markdown",
      "source": [
        "$H_0:$ µ1 = µ2 = µ3\n",
        "\n",
        "$H_a:$ At least one time average of the new landing page is different among the language preferences.\n"
      ],
      "metadata": {
        "id": "_Ycjk0vc0cDY"
      },
      "id": "_Ycjk0vc0cDY"
    },
    {
      "cell_type": "markdown",
      "source": [
        "### Step 2: Select Appropriate test"
      ],
      "metadata": {
        "id": "KgbN_DBU_qNv"
      },
      "id": "KgbN_DBU_qNv"
    },
    {
      "cell_type": "markdown",
      "source": [
        "The question is based on the mean time spent on the new page by three different language users. Basically it is a test for means for more than two populations, I conclude to perform the One-way ANOVA F-test."
      ],
      "metadata": {
        "id": "H0MUASrd3J91"
      },
      "id": "H0MUASrd3J91"
    },
    {
      "cell_type": "markdown",
      "source": [
        "### Step 3: Decide the significance level"
      ],
      "metadata": {
        "id": "plB25YTE_u6Q"
      },
      "id": "plB25YTE_u6Q"
    },
    {
      "cell_type": "markdown",
      "source": [
        "As defined in the stated problem, the significance level selected is 0.05"
      ],
      "metadata": {
        "id": "7-NrFhhm_z5s"
      },
      "id": "7-NrFhhm_z5s"
    },
    {
      "cell_type": "markdown",
      "source": [
        "### Step 4: Collect and prepare data"
      ],
      "metadata": {
        "id": "v6p2Edg2_0BD"
      },
      "id": "v6p2Edg2_0BD"
    },
    {
      "cell_type": "code",
      "source": [
        "# Create a subsetted data frame of the time spent on the new page by English language users \n",
        "time_spent_English = df_new[df_new['language_preferred']==\"English\"]['time_spent_on_the_page']\n",
        "# Create subsetted data frames of the time spent on the new page by French and Spanish language users\n",
        "time_spent_French = df_new[df_new['language_preferred']=='French']['time_spent_on_the_page']  \n",
        "time_spent_Spanish = df_new[df_new['language_preferred']== 'Spanish']['time_spent_on_the_page']   "
      ],
      "metadata": {
        "id": "Rze2pAk6Am1j"
      },
      "id": "Rze2pAk6Am1j",
      "execution_count": 107,
      "outputs": []
    },
    {
      "cell_type": "markdown",
      "source": [
        "### Step 5: Calculate the p-value"
      ],
      "metadata": {
        "id": "HU5VZWNG_0Dt"
      },
      "id": "HU5VZWNG_0Dt"
    },
    {
      "cell_type": "code",
      "source": [
        "# Importing the necessary libraries\n",
        "from scipy.stats import f_oneway \n",
        "\n",
        "# Calculating p-values\n",
        "test_stat, p_value = f_oneway(time_spent_English, time_spent_French, time_spent_Spanish)   \n",
        "\n",
        "print('The p-value is', p_value)"
      ],
      "metadata": {
        "colab": {
          "base_uri": "https://localhost:8080/"
        },
        "id": "f84FKwTUA_h7",
        "outputId": "7828b879-066b-4f36-a18d-540789c30ace"
      },
      "id": "f84FKwTUA_h7",
      "execution_count": 108,
      "outputs": [
        {
          "output_type": "stream",
          "name": "stdout",
          "text": [
            "The p-value is 0.43204138694325955\n"
          ]
        }
      ]
    },
    {
      "cell_type": "markdown",
      "source": [
        "### Step 6: Compare the p-value with $\\alpha$"
      ],
      "metadata": {
        "id": "lPj-2LRx_0G6"
      },
      "id": "lPj-2LRx_0G6"
    },
    {
      "cell_type": "code",
      "source": [
        "# print the conclusion based on p-value\n",
        "if p_value < 0.05:\n",
        "    print(f'As the p-value {p_value} is less than the level of significance, we reject the null hypothesis.')\n",
        "else:\n",
        "    print(f'As the p-value {p_value} is greater than the level of significance, we fail to reject the null hypothesis.')"
      ],
      "metadata": {
        "colab": {
          "base_uri": "https://localhost:8080/"
        },
        "id": "RQZX2ICtBfpH",
        "outputId": "1f56510b-04d8-4d14-f399-3f5bb2856949"
      },
      "id": "RQZX2ICtBfpH",
      "execution_count": 109,
      "outputs": [
        {
          "output_type": "stream",
          "name": "stdout",
          "text": [
            "As the p-value 0.43204138694325955 is greater than the level of significance, we fail to reject the null hypothesis.\n"
          ]
        }
      ]
    },
    {
      "cell_type": "markdown",
      "source": [
        "### Step 7:  Draw inference"
      ],
      "metadata": {
        "id": "GPDTAZ3H_0L4"
      },
      "id": "GPDTAZ3H_0L4"
    },
    {
      "cell_type": "markdown",
      "source": [
        "At 5% significance level, we fail to reject the null hypothesis. Hence we don't have enough statistical evidence to say that at least one time average on the new landing page is different among the language preferences."
      ],
      "metadata": {
        "id": "-tCFKPOD_0PT"
      },
      "id": "-tCFKPOD_0PT"
    },
    {
      "cell_type": "markdown",
      "source": [
        "### Conclusion:\n",
        "\n",
        "In this scenario, the p value is 0.432 which is greater than the 0.05. Hence, we fail to reject the null hypothesis.\n",
        "\n",
        "This means that the time averages on the new landing page for the different languages are relatively the same."
      ],
      "metadata": {
        "id": "Na-FGKN0LVQm"
      },
      "id": "Na-FGKN0LVQm"
    },
    {
      "cell_type": "markdown",
      "metadata": {
        "id": "3acbc947"
      },
      "source": [
        "## Conclusion and Business Recommendations"
      ],
      "id": "3acbc947"
    },
    {
      "cell_type": "markdown",
      "source": [
        "**Based on the observations from both the statistical and visual analysis of the given data, we have enough evidence to prove that the mean time spent on the new page for the different language users are same.**"
      ],
      "metadata": {
        "id": "_k_0T7w7Mezg"
      },
      "id": "_k_0T7w7Mezg"
    },
    {
      "cell_type": "markdown",
      "metadata": {
        "id": "21fb1063"
      },
      "source": [
        "### Conclusion:\n",
        "From the statistical and visual analysis performed, we can conclude that at a 5% significance level\n",
        "\n",
        "*  The users spend more time on the new landing page than the old landing page\n",
        "\n",
        "*  The conversion rate for the new page is greater than the conversion rate for the old page\n",
        "\n",
        "*  The converted status does not depend on the language preferred\n",
        "\n",
        "*  The mean time spent on the new page is the same for the different language users\n",
        "\n",
        "All things considered, there is enough statistical and visual evidence to prove that the business would improve significantly with the launch of the new landing page."
      ],
      "id": "21fb1063"
    },
    {
      "cell_type": "markdown",
      "source": [
        "___"
      ],
      "metadata": {
        "id": "U0dAd4i0iCHo"
      },
      "id": "U0dAd4i0iCHo"
    }
  ]
}